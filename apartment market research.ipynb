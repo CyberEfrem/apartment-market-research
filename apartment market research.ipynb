{
 "cells": [
  {
   "cell_type": "markdown",
   "metadata": {
    "toc": true
   },
   "source": [
    "<h1>Содержание<span class=\"tocSkip\"></span></h1>\n",
    "<div class=\"toc\"><ul class=\"toc-item\"><li><span><a href=\"#Изучение-данных-из-файла\" data-toc-modified-id=\"Изучение-данных-из-файла-1\"><span class=\"toc-item-num\">1&nbsp;&nbsp;</span>Изучение данных из файла</a></span><ul class=\"toc-item\"><li><span><a href=\"#Вывод\" data-toc-modified-id=\"Вывод-1.1\"><span class=\"toc-item-num\">1.1&nbsp;&nbsp;</span>Вывод</a></span></li></ul></li><li><span><a href=\"#Предобработка-данных\" data-toc-modified-id=\"Предобработка-данных-2\"><span class=\"toc-item-num\">2&nbsp;&nbsp;</span>Предобработка данных</a></span></li><li><span><a href=\"#Расчёты-и-добавление-результатов-в-таблицу\" data-toc-modified-id=\"Расчёты-и-добавление-результатов-в-таблицу-3\"><span class=\"toc-item-num\">3&nbsp;&nbsp;</span>Расчёты и добавление результатов в таблицу</a></span></li><li><span><a href=\"#Исследовательский-анализ-данных\" data-toc-modified-id=\"Исследовательский-анализ-данных-4\"><span class=\"toc-item-num\">4&nbsp;&nbsp;</span>Исследовательский анализ данных</a></span></li><li><span><a href=\"#Общий-вывод\" data-toc-modified-id=\"Общий-вывод-5\"><span class=\"toc-item-num\">5&nbsp;&nbsp;</span>Общий вывод</a></span></li><li><span><a href=\"#Чек-лист-готовности-проекта\" data-toc-modified-id=\"Чек-лист-готовности-проекта-6\"><span class=\"toc-item-num\">6&nbsp;&nbsp;</span>Чек-лист готовности проекта</a></span></li></ul></div>"
   ]
  },
  {
   "cell_type": "markdown",
   "metadata": {},
   "source": [
    "# Исследование объявлений о продаже квартир\n",
    "\n",
    "**Цели:**\n",
    "- Научиться определять рыночную стоимость объектов недвижимости.\n",
    "- Автоматизировать систему для определения аномалий и мошенников.\n",
    "\n",
    "**Задачи:**\n",
    "- Изучить и установить основные параметры.\n",
    "- Изучить время продажи.\n",
    "- Избавиться от нетипичных данных.\n",
    "- Изучить факторы, больше всего влияющие на стоимость.\n",
    "- Проанализировать 10 населённых пунктов, с наибольшим количеством объявлений.\n",
    "- Определить область, которая является центральной частью города, выделить в сегмент и проанализировать. \n",
    "\n",
    "**Данные:**\n",
    "- Данные сервиса Яндекс.Недвижимость — архив объявлений о продаже квартир в Санкт-Петербурге и соседних населённых пунктах за несколько лет\n",
    "- Вписанные по квартире пользователем.\n",
    "- Полученные автоматически с помощью картографии.\n",
    "\n",
    "*Описание данных:*\n",
    "- `airports_nearest` — расстояние до ближайшего аэропорта в метрах (м)\n",
    "- `balcony` — число балконов\n",
    "- `ceiling_height` — высота потолков (м)\n",
    "- `cityCenters_nearest` — расстояние до центра города (м)\n",
    "- `days_exposition` — сколько дней было размещено объявление (от публикации до снятия)\n",
    "- `first_day_exposition` — дата публикации\n",
    "- `floor` — этаж\n",
    "- `floors_total` — всего этажей в доме\n",
    "- `is_apartment` — апартаменты (булев тип)\n",
    "- `kitchen_area` — площадь кухни в квадратных метрах (м²)\n",
    "- `last_price` — цена на момент снятия с публикации\n",
    "- `living_area` — жилая площадь в квадратных метрах (м²)\n",
    "- `locality_name` — название населённого пункта\n",
    "- `open_plan` — свободная планировка (булев тип)\n",
    "- `parks_around3000` — число парков в радиусе 3 км\n",
    "- `parks_nearest` — расстояние до ближайшего парка (м)\n",
    "- `ponds_around3000` — число водоёмов в радиусе 3 км\n",
    "- `ponds_nearest` — расстояние до ближайшего водоёма (м)\n",
    "- `rooms` — число комнат\n",
    "- `studio` — квартира-студия (булев тип)\n",
    "- `total_area` — площадь квартиры в квадратных метрах (м²)\n",
    "- `total_images` — число фотографий квартиры в объявлении"
   ]
  },
  {
   "cell_type": "markdown",
   "metadata": {},
   "source": [
    "## Изучение данных из файла"
   ]
  },
  {
   "cell_type": "code",
   "execution_count": 1,
   "metadata": {},
   "outputs": [],
   "source": [
    "import matplotlib.pyplot as plt"
   ]
  },
  {
   "cell_type": "code",
   "execution_count": 2,
   "metadata": {},
   "outputs": [
    {
     "name": "stdout",
     "output_type": "stream",
     "text": [
      "<class 'pandas.core.frame.DataFrame'>\n",
      "RangeIndex: 23699 entries, 0 to 23698\n",
      "Data columns (total 22 columns):\n",
      "total_images            23699 non-null int64\n",
      "last_price              23699 non-null float64\n",
      "total_area              23699 non-null float64\n",
      "first_day_exposition    23699 non-null object\n",
      "rooms                   23699 non-null int64\n",
      "ceiling_height          14504 non-null float64\n",
      "floors_total            23613 non-null float64\n",
      "living_area             21796 non-null float64\n",
      "floor                   23699 non-null int64\n",
      "is_apartment            2775 non-null object\n",
      "studio                  23699 non-null bool\n",
      "open_plan               23699 non-null bool\n",
      "kitchen_area            21421 non-null float64\n",
      "balcony                 12180 non-null float64\n",
      "locality_name           23650 non-null object\n",
      "airports_nearest        18157 non-null float64\n",
      "cityCenters_nearest     18180 non-null float64\n",
      "parks_around3000        18181 non-null float64\n",
      "parks_nearest           8079 non-null float64\n",
      "ponds_around3000        18181 non-null float64\n",
      "ponds_nearest           9110 non-null float64\n",
      "days_exposition         20518 non-null float64\n",
      "dtypes: bool(2), float64(14), int64(3), object(3)\n",
      "memory usage: 3.7+ MB\n"
     ]
    }
   ],
   "source": [
    "import pandas as pd\n",
    "data = pd.read_csv('/datasets/real_estate_data.csv', sep = '\\t')\n",
    "data.info()"
   ]
  },
  {
   "cell_type": "markdown",
   "metadata": {},
   "source": [
    "### Вывод"
   ]
  },
  {
   "cell_type": "markdown",
   "metadata": {},
   "source": [
    "Предварительно можем сказать, что:\n",
    "- `first_day_exposition` - неверный тип данных, так как это дата публикации переведём в datetime.\n",
    "- `ceiling_height` - много пропущенных значений.\n",
    "- `floors_total` - неверный тип данных. Это количество этажей, приведём столбец к типу int. Есть пропуски.\n",
    "- `living_area` - есть пропуски.\n",
    "- `is_apartment` - столбец подразумевает логический тип данных, поменяем его на bool.\n",
    "- `kitchen_area` - есть пропуски.\n",
    "- `balcony` - есть пропуски.\n",
    "- `locality_name` - есть пропуски.\n",
    "- `airports_nearest` - есть пропуски.\n",
    "- `cityCenters_nearest` - есть пропуски.\n",
    "- `parks_around3000` - есть пропуски. Некорректный тип данных, количество парков - целое число. \n",
    "- `parks_nearest` - есть пропуски.\n",
    "- `ponds_around3000` - есть пропуски. Некорректный тип данных, количество водоёмов - целое число. \n",
    "- `ponds_nearest` - есть пропуски.\n",
    "- `days_exposition` - есть пропуски. Некорректный тип данных, срок публикации - целое число. "
   ]
  },
  {
   "cell_type": "markdown",
   "metadata": {},
   "source": [
    "## Предобработка данных"
   ]
  },
  {
   "cell_type": "markdown",
   "metadata": {},
   "source": [
    "Изучим основные столбцы на предмет нестандартных значений. "
   ]
  },
  {
   "cell_type": "code",
   "execution_count": 3,
   "metadata": {},
   "outputs": [
    {
     "data": {
      "text/plain": [
       "[10    1798\n",
       " 9     1725\n",
       " 20    1694\n",
       " 8     1585\n",
       " 7     1521\n",
       " 6     1482\n",
       " 11    1362\n",
       " 5     1301\n",
       " 12    1225\n",
       " 0     1059\n",
       " 13    1015\n",
       " 14     986\n",
       " 4      986\n",
       " 15     948\n",
       " 1      872\n",
       " 3      769\n",
       " 16     761\n",
       " 17     650\n",
       " 18     642\n",
       " 2      640\n",
       " 19     603\n",
       " 23      16\n",
       " 21      12\n",
       " 24       8\n",
       " 22       8\n",
       " 26       5\n",
       " 28       4\n",
       " 32       4\n",
       " 50       3\n",
       " 29       3\n",
       " 31       2\n",
       " 35       2\n",
       " 30       2\n",
       " 27       2\n",
       " 37       1\n",
       " 39       1\n",
       " 25       1\n",
       " 42       1\n",
       " Name: total_images, dtype: int64,\n",
       " 4500000.0     342\n",
       " 3500000.0     291\n",
       " 4000000.0     260\n",
       " 4300000.0     260\n",
       " 4200000.0     259\n",
       "              ... \n",
       " 4412094.0       1\n",
       " 6416000.0       1\n",
       " 4581000.0       1\n",
       " 34551000.0      1\n",
       " 6029433.0       1\n",
       " Name: last_price, Length: 2978, dtype: int64,\n",
       " 45.00     419\n",
       " 42.00     383\n",
       " 60.00     347\n",
       " 31.00     346\n",
       " 44.00     345\n",
       "          ... \n",
       " 45.85       1\n",
       " 44.18       1\n",
       " 59.83       1\n",
       " 127.20      1\n",
       " 23.55       1\n",
       " Name: total_area, Length: 2182, dtype: int64,\n",
       " 2018-02-01T00:00:00    368\n",
       " 2017-11-10T00:00:00    240\n",
       " 2017-10-13T00:00:00    124\n",
       " 2017-09-27T00:00:00    111\n",
       " 2018-03-26T00:00:00     97\n",
       "                       ... \n",
       " 2017-03-05T00:00:00      1\n",
       " 2015-09-19T00:00:00      1\n",
       " 2015-07-11T00:00:00      1\n",
       " 2015-08-02T00:00:00      1\n",
       " 2015-03-15T00:00:00      1\n",
       " Name: first_day_exposition, Length: 1491, dtype: int64,\n",
       " 1     8047\n",
       " 2     7940\n",
       " 3     5814\n",
       " 4     1180\n",
       " 5      326\n",
       " 0      197\n",
       " 6      105\n",
       " 7       59\n",
       " 8       12\n",
       " 9        8\n",
       " 10       3\n",
       " 14       2\n",
       " 11       2\n",
       " 19       1\n",
       " 12       1\n",
       " 16       1\n",
       " 15       1\n",
       " Name: rooms, dtype: int64,\n",
       " 2.50      3515\n",
       " 2.60      1646\n",
       " 2.70      1574\n",
       " 3.00      1112\n",
       " 2.80       993\n",
       "           ... \n",
       " 27.50        1\n",
       " 5.00         1\n",
       " 3.59         1\n",
       " 4.80         1\n",
       " 100.00       1\n",
       " Name: ceiling_height, Length: 183, dtype: int64,\n",
       " 5.0     5788\n",
       " 9.0     3761\n",
       " 16.0    1376\n",
       " 12.0    1362\n",
       " 4.0     1200\n",
       " 10.0    1174\n",
       " 25.0    1075\n",
       " 6.0      914\n",
       " 17.0     833\n",
       " 3.0      668\n",
       " 7.0      592\n",
       " 14.0     553\n",
       " 18.0     505\n",
       " 24.0     469\n",
       " 8.0      390\n",
       " 2.0      383\n",
       " 15.0     365\n",
       " 23.0     352\n",
       " 19.0     339\n",
       " 22.0     286\n",
       " 20.0     271\n",
       " 13.0     229\n",
       " 11.0     203\n",
       " 27.0     164\n",
       " 21.0     158\n",
       " 26.0     124\n",
       " 1.0       25\n",
       " 35.0      24\n",
       " 28.0      21\n",
       " 36.0       3\n",
       " 29.0       1\n",
       " 60.0       1\n",
       " 33.0       1\n",
       " 52.0       1\n",
       " 37.0       1\n",
       " 34.0       1\n",
       " Name: floors_total, dtype: int64,\n",
       " 18.00    882\n",
       " 17.00    675\n",
       " 30.00    598\n",
       " 16.00    486\n",
       " 20.00    481\n",
       "         ... \n",
       " 20.03      1\n",
       " 10.55      1\n",
       " 24.83      1\n",
       " 20.97      1\n",
       " 15.55      1\n",
       " Name: living_area, Length: 1782, dtype: int64,\n",
       " 2     3368\n",
       " 3     3073\n",
       " 1     2917\n",
       " 4     2804\n",
       " 5     2621\n",
       " 6     1305\n",
       " 7     1218\n",
       " 8     1083\n",
       " 9     1051\n",
       " 10     687\n",
       " 12     526\n",
       " 11     523\n",
       " 13     379\n",
       " 15     343\n",
       " 14     337\n",
       " 16     315\n",
       " 17     227\n",
       " 18     178\n",
       " 19     147\n",
       " 21     125\n",
       " 22     113\n",
       " 20     110\n",
       " 23     100\n",
       " 24      63\n",
       " 25      46\n",
       " 26      24\n",
       " 27      10\n",
       " 28       1\n",
       " 33       1\n",
       " 29       1\n",
       " 30       1\n",
       " 32       1\n",
       " 31       1\n",
       " Name: floor, dtype: int64,\n",
       " False    2725\n",
       " True       50\n",
       " Name: is_apartment, dtype: int64,\n",
       " False    23550\n",
       " True       149\n",
       " Name: studio, dtype: int64,\n",
       " False    23632\n",
       " True        67\n",
       " Name: open_plan, dtype: int64,\n",
       " 6.00     1300\n",
       " 10.00    1262\n",
       " 8.00     1110\n",
       " 9.00     1101\n",
       " 7.00     1062\n",
       "          ... \n",
       " 18.07       1\n",
       " 28.20       1\n",
       " 37.90       1\n",
       " 9.51        1\n",
       " 35.40       1\n",
       " Name: kitchen_area, Length: 971, dtype: int64,\n",
       " 1.0    4195\n",
       " 0.0    3758\n",
       " 2.0    3659\n",
       " 5.0     304\n",
       " 4.0     183\n",
       " 3.0      81\n",
       " Name: balcony, dtype: int64,\n",
       " Санкт-Петербург                               15721\n",
       " посёлок Мурино                                  522\n",
       " посёлок Шушары                                  440\n",
       " Всеволожск                                      398\n",
       " Пушкин                                          369\n",
       "                                               ...  \n",
       " деревня Русско                                    1\n",
       " поселок Володарское                               1\n",
       " посёлок при железнодорожной станции Вещево        1\n",
       " посёлок Мыза-Ивановка                             1\n",
       " деревня Тихковицы                                 1\n",
       " Name: locality_name, Length: 364, dtype: int64,\n",
       " 37434.0    61\n",
       " 21928.0    32\n",
       " 39946.0    30\n",
       " 44870.0    30\n",
       " 37407.0    27\n",
       "            ..\n",
       " 25122.0     1\n",
       " 26768.0     1\n",
       " 22248.0     1\n",
       " 20475.0     1\n",
       " 14579.0     1\n",
       " Name: airports_nearest, Length: 8275, dtype: int64,\n",
       " 8460.0     61\n",
       " 20802.0    32\n",
       " 10720.0    30\n",
       " 8434.0     27\n",
       " 20444.0    27\n",
       "            ..\n",
       " 13104.0     1\n",
       " 11280.0     1\n",
       " 27218.0     1\n",
       " 10501.0     1\n",
       " 208.0       1\n",
       " Name: cityCenters_nearest, Length: 7642, dtype: int64,\n",
       " 0.0    10106\n",
       " 1.0     5681\n",
       " 2.0     1747\n",
       " 3.0      647\n",
       " Name: parks_around3000, dtype: int64,\n",
       " 441.0     67\n",
       " 173.0     41\n",
       " 392.0     41\n",
       " 456.0     40\n",
       " 471.0     32\n",
       "           ..\n",
       " 863.0      1\n",
       " 2880.0     1\n",
       " 969.0      1\n",
       " 1011.0     1\n",
       " 775.0      1\n",
       " Name: parks_nearest, Length: 995, dtype: int64,\n",
       " 0.0    9071\n",
       " 1.0    5717\n",
       " 2.0    1892\n",
       " 3.0    1501\n",
       " Name: ponds_around3000, dtype: int64,\n",
       " 427.0     70\n",
       " 454.0     41\n",
       " 153.0     40\n",
       " 433.0     39\n",
       " 564.0     37\n",
       "           ..\n",
       " 742.0      1\n",
       " 1019.0     1\n",
       " 948.0      1\n",
       " 1275.0     1\n",
       " 193.0      1\n",
       " Name: ponds_nearest, Length: 1096, dtype: int64,\n",
       " 45.0      880\n",
       " 60.0      538\n",
       " 7.0       234\n",
       " 30.0      208\n",
       " 90.0      204\n",
       "          ... \n",
       " 1110.0      1\n",
       " 1049.0      1\n",
       " 951.0       1\n",
       " 693.0       1\n",
       " 773.0       1\n",
       " Name: days_exposition, Length: 1141, dtype: int64]"
      ]
     },
     "execution_count": 3,
     "metadata": {},
     "output_type": "execute_result"
    }
   ],
   "source": [
    "[data[x].value_counts() for x in data]"
   ]
  },
  {
   "cell_type": "code",
   "execution_count": 4,
   "metadata": {
    "scrolled": true
   },
   "outputs": [
    {
     "name": "stdout",
     "output_type": "stream",
     "text": [
      "Пропущено 0.0% значений\n",
      "Пропущено 0.0% значений\n",
      "Пропущено 0.0% значений\n",
      "Пропущено 0.0% значений\n",
      "Пропущено 0.0% значений\n",
      "Пропущено 38.8% значений\n",
      "Пропущено 0.4% значений\n",
      "Пропущено 8.0% значений\n",
      "Пропущено 0.0% значений\n",
      "Пропущено 88.3% значений\n",
      "Пропущено 0.0% значений\n",
      "Пропущено 0.0% значений\n",
      "Пропущено 9.6% значений\n",
      "Пропущено 48.6% значений\n",
      "Пропущено 0.2% значений\n",
      "Пропущено 23.4% значений\n",
      "Пропущено 23.3% значений\n",
      "Пропущено 23.3% значений\n",
      "Пропущено 65.9% значений\n",
      "Пропущено 23.3% значений\n",
      "Пропущено 61.6% значений\n",
      "Пропущено 13.4% значений\n"
     ]
    }
   ],
   "source": [
    "def print_nan_ratio(column):\n",
    "    return print('Пропущено {:.1%}'. format(data[column].isna().mean(), 2) + ' значений')\n",
    "\n",
    "for column in data.columns:\n",
    "    print_nan_ratio(column)"
   ]
  },
  {
   "cell_type": "code",
   "execution_count": 5,
   "metadata": {
    "scrolled": true
   },
   "outputs": [
    {
     "data": {
      "text/plain": [
       "total_images            0.000000\n",
       "last_price              0.000000\n",
       "total_area              0.000000\n",
       "first_day_exposition    0.000000\n",
       "rooms                   0.000000\n",
       "ceiling_height          0.387991\n",
       "floors_total            0.003629\n",
       "living_area             0.080299\n",
       "floor                   0.000000\n",
       "is_apartment            0.882906\n",
       "studio                  0.000000\n",
       "open_plan               0.000000\n",
       "kitchen_area            0.096122\n",
       "balcony                 0.486054\n",
       "locality_name           0.002068\n",
       "airports_nearest        0.233850\n",
       "cityCenters_nearest     0.232879\n",
       "parks_around3000        0.232837\n",
       "parks_nearest           0.659100\n",
       "ponds_around3000        0.232837\n",
       "ponds_nearest           0.615596\n",
       "days_exposition         0.134225\n",
       "dtype: float64"
      ]
     },
     "execution_count": 5,
     "metadata": {},
     "output_type": "execute_result"
    }
   ],
   "source": [
    "data.isna().mean()"
   ]
  },
  {
   "cell_type": "markdown",
   "metadata": {},
   "source": [
    "Изменим все некорректно указанные типы данных.\n",
    "1. `first_day_exposition` - время не указано. Трансформируем в формат ГГ-ММ-ДД.\n",
    "2. `ceiling_height` - с помощью метода `value_counts()` определили, что есть отклонения, но на гистограмме они не заметны. Пропусков очень много, средняя и медиана почти не отличаются, можно заполнить любой из них.\n",
    "3. `days_exposition` - здесь вероятнее всего пропущены значения в объявлениях, которые были сняты в день публикации. Заполним пропуски нулями и приведём к int.\n",
    "4. `locality_name` - нет идей относительно причин пропусков, их немного, удалим. Сообщим ответственным, это поле по хорошему должно быть обязательным для ввода.\n",
    "5. `balcony` - пропуски балконов вероятно говорят об их отсутствии. Заполним нулями и приведём к int.\n",
    "6. `is_apartment` - пропуси в столбце с апартаментами заменим на False.\n",
    "7. `last_price` - чтобы было удобнее считать, приведём цену к значению int.\n",
    "8. `living_area` - как заполнить пропуски не совсем ясно. Можно попробовать оттолкнуться от отношения стоимости квартиры к среднему значению стоимости квадратного метра для района.\n",
    "9. `airports_nearest` - где возможно, заменим значение до ближайшего аэропорта до среднего по району.\n",
    "10. `cityCenters_nearest` - где возможно, заменим значение до центра до среднего по району.\n",
    "11. `kitchen_area` - среднее и медиана близки, заменим медианой."
   ]
  },
  {
   "cell_type": "code",
   "execution_count": 6,
   "metadata": {},
   "outputs": [],
   "source": [
    "#1\n",
    "data['first_day_exposition'] = pd.to_datetime(data['first_day_exposition'], format = '%Y-%m-%d')"
   ]
  },
  {
   "cell_type": "code",
   "execution_count": 7,
   "metadata": {},
   "outputs": [
    {
     "data": {
      "text/plain": [
       "<matplotlib.axes._subplots.AxesSubplot at 0x7f84fc05d510>"
      ]
     },
     "execution_count": 7,
     "metadata": {},
     "output_type": "execute_result"
    },
    {
     "data": {
      "image/png": "[encoded data removed]",
      "text/plain": [
       "<Figure size 432x288 with 1 Axes>"
      ]
     },
     "metadata": {
      "needs_background": "light"
     },
     "output_type": "display_data"
    }
   ],
   "source": [
    "#2\n",
    "data['ceiling_height'].sort_values().plot(y='ceiling_height', kind='hist', bins=20, range=(2,7))"
   ]
  },
  {
   "cell_type": "code",
   "execution_count": 8,
   "metadata": {},
   "outputs": [
    {
     "data": {
      "text/plain": [
       "count    14504.000000\n",
       "mean         2.771499\n",
       "std          1.261056\n",
       "min          1.000000\n",
       "25%          2.520000\n",
       "50%          2.650000\n",
       "75%          2.800000\n",
       "max        100.000000\n",
       "Name: ceiling_height, dtype: float64"
      ]
     },
     "execution_count": 8,
     "metadata": {},
     "output_type": "execute_result"
    }
   ],
   "source": [
    "#2\n",
    "data['ceiling_height'].describe()"
   ]
  },
  {
   "cell_type": "code",
   "execution_count": 9,
   "metadata": {},
   "outputs": [],
   "source": [
    "data['ceiling_height'] = data['ceiling_height'].fillna(data['ceiling_height'].median())"
   ]
  },
  {
   "cell_type": "code",
   "execution_count": 10,
   "metadata": {},
   "outputs": [
    {
     "data": {
      "text/plain": [
       "0"
      ]
     },
     "execution_count": 10,
     "metadata": {},
     "output_type": "execute_result"
    }
   ],
   "source": [
    "data['ceiling_height'].isna().sum()"
   ]
  },
  {
   "cell_type": "code",
   "execution_count": 11,
   "metadata": {},
   "outputs": [],
   "source": [
    "#3\n",
    "data['days_exposition'] = data['days_exposition'].fillna(0).astype('int')"
   ]
  },
  {
   "cell_type": "code",
   "execution_count": 12,
   "metadata": {},
   "outputs": [
    {
     "data": {
      "text/plain": [
       "0"
      ]
     },
     "execution_count": 12,
     "metadata": {},
     "output_type": "execute_result"
    }
   ],
   "source": [
    "#4\n",
    "data = data.dropna(subset=['locality_name'])\n",
    "data['locality_name'].isna().sum()"
   ]
  },
  {
   "cell_type": "code",
   "execution_count": 13,
   "metadata": {},
   "outputs": [],
   "source": [
    "#5\n",
    "data['balcony'] = data['balcony'].fillna(0).astype('int')"
   ]
  },
  {
   "cell_type": "code",
   "execution_count": 14,
   "metadata": {},
   "outputs": [],
   "source": [
    "#6\n",
    "data['is_apartment'] = data['is_apartment'].fillna(False)"
   ]
  },
  {
   "cell_type": "code",
   "execution_count": 15,
   "metadata": {},
   "outputs": [],
   "source": [
    "#7\n",
    "data['last_price'] = (data['last_price']/1000000).astype('int')"
   ]
  },
  {
   "cell_type": "markdown",
   "metadata": {},
   "source": [
    "```python\n",
    "\n",
    "columns = [col1, col2, col3]\n",
    "\n",
    "for i in columns:\n",
    "    df[i] = df[i].fillna(0)\n",
    "\n",
    "```"
   ]
  },
  {
   "cell_type": "code",
   "execution_count": 16,
   "metadata": {},
   "outputs": [
    {
     "data": {
      "text/plain": [
       "count    21752.000000\n",
       "mean        34.448356\n",
       "std         22.037664\n",
       "min          2.000000\n",
       "25%         18.600000\n",
       "50%         30.000000\n",
       "75%         42.300000\n",
       "max        409.700000\n",
       "Name: living_area, dtype: float64"
      ]
     },
     "execution_count": 16,
     "metadata": {},
     "output_type": "execute_result"
    }
   ],
   "source": [
    "#8\n",
    "data['living_area'].describe()"
   ]
  },
  {
   "cell_type": "code",
   "execution_count": 17,
   "metadata": {},
   "outputs": [],
   "source": [
    "data['price_for_square_meter'] = (data['last_price'] / data['total_area']).astype('int')\n",
    "local_price_m2 = data.groupby('locality_name')['price_for_square_meter'].transform('mean') # группируем по району\n",
    "data['price_for_square_meter'] = data['price_for_square_meter'].fillna(local_price_m2)"
   ]
  },
  {
   "cell_type": "code",
   "execution_count": 18,
   "metadata": {},
   "outputs": [
    {
     "data": {
      "text/plain": [
       "0"
      ]
     },
     "execution_count": 18,
     "metadata": {},
     "output_type": "execute_result"
    }
   ],
   "source": [
    "# удалим всё, что не представилось возможным заполнить исходя из имеющихся данных.\n",
    "data = data.dropna(subset=['price_for_square_meter'])\n",
    "data['price_for_square_meter'].isna().sum()"
   ]
  },
  {
   "cell_type": "code",
   "execution_count": 19,
   "metadata": {},
   "outputs": [
    {
     "data": {
      "text/plain": [
       "43"
      ]
     },
     "execution_count": 19,
     "metadata": {},
     "output_type": "execute_result"
    }
   ],
   "source": [
    "data['living_area'] = data['living_area'].fillna(data['last_price']/data['price_for_square_meter'])\n",
    "data['living_area'].isna().sum()"
   ]
  },
  {
   "cell_type": "code",
   "execution_count": 20,
   "metadata": {},
   "outputs": [],
   "source": [
    "local_airport = data.groupby('locality_name')['airports_nearest'].transform('mean')\n",
    "data['airports_nearest'] = data['airports_nearest'].fillna(local_airport)"
   ]
  },
  {
   "cell_type": "code",
   "execution_count": 21,
   "metadata": {},
   "outputs": [],
   "source": [
    "data['cityCenters_nearest'] = data['cityCenters_nearest'].fillna(data.groupby('locality_name')['cityCenters_nearest'].transform('mean'))"
   ]
  },
  {
   "cell_type": "code",
   "execution_count": 22,
   "metadata": {},
   "outputs": [
    {
     "data": {
      "text/plain": [
       "0"
      ]
     },
     "execution_count": 22,
     "metadata": {},
     "output_type": "execute_result"
    }
   ],
   "source": [
    "spb = data[data['locality_name']=='Санкт-Петербург']['cityCenters_nearest']\n",
    "spb.isna().sum()"
   ]
  },
  {
   "cell_type": "code",
   "execution_count": 23,
   "metadata": {},
   "outputs": [
    {
     "data": {
      "text/plain": [
       "count    21381.000000\n",
       "mean        10.566403\n",
       "std          5.901753\n",
       "min          1.300000\n",
       "25%          7.000000\n",
       "50%          9.100000\n",
       "75%         12.000000\n",
       "max        112.000000\n",
       "Name: kitchen_area, dtype: float64"
      ]
     },
     "execution_count": 23,
     "metadata": {},
     "output_type": "execute_result"
    }
   ],
   "source": [
    "data['kitchen_area'].describe()"
   ]
  },
  {
   "cell_type": "code",
   "execution_count": 24,
   "metadata": {},
   "outputs": [],
   "source": [
    "data['kitchen_area']=data['kitchen_area'].fillna(data['kitchen_area'].median())"
   ]
  },
  {
   "cell_type": "code",
   "execution_count": 25,
   "metadata": {},
   "outputs": [
    {
     "name": "stdout",
     "output_type": "stream",
     "text": [
      "<class 'pandas.core.frame.DataFrame'>\n",
      "Int64Index: 23650 entries, 0 to 23698\n",
      "Data columns (total 23 columns):\n",
      "total_images              23650 non-null int64\n",
      "last_price                23650 non-null int64\n",
      "total_area                23650 non-null float64\n",
      "first_day_exposition      23650 non-null datetime64[ns]\n",
      "rooms                     23650 non-null int64\n",
      "ceiling_height            23650 non-null float64\n",
      "floors_total              23565 non-null float64\n",
      "living_area               23607 non-null float64\n",
      "floor                     23650 non-null int64\n",
      "is_apartment              23650 non-null bool\n",
      "studio                    23650 non-null bool\n",
      "open_plan                 23650 non-null bool\n",
      "kitchen_area              23650 non-null float64\n",
      "balcony                   23650 non-null int64\n",
      "locality_name             23650 non-null object\n",
      "airports_nearest          18264 non-null float64\n",
      "cityCenters_nearest       18264 non-null float64\n",
      "parks_around3000          18140 non-null float64\n",
      "parks_nearest             8064 non-null float64\n",
      "ponds_around3000          18140 non-null float64\n",
      "ponds_nearest             9085 non-null float64\n",
      "days_exposition           23650 non-null int64\n",
      "price_for_square_meter    23650 non-null int64\n",
      "dtypes: bool(3), datetime64[ns](1), float64(11), int64(7), object(1)\n",
      "memory usage: 3.9+ MB\n"
     ]
    }
   ],
   "source": [
    "data.info()"
   ]
  },
  {
   "cell_type": "markdown",
   "metadata": {},
   "source": [
    " **Вывод:** \n",
    " 1. Высота потолков должна быть ограничена для ввода клиентами. есть значения 1 м. и 27 метров. Пропущенные значения заменены медианой.\n",
    " 2. Число этажей - нулевых значений очень мало, можно автоматизировать заполнение значений исходя из точного адреса, наверняка такие базы есть.\n",
    " 3. Жилая площадь - заполнили на основе цены за квадратный метр и данных общей площади, кухню просто заполнили медианой.\n",
    " 4. Балконы - нулевые значения воспримем как отсутствие балкона.\n",
    " 5. Название населенного пункта - удаляем, так как будем использовать его далее. Поле ввода необходимо сделать обязательным.\n",
    " 6. Расстояние до центра - где смогли, заполнили средним значением по району, остальное оставили без изменений в связи с трудоёмкостью процесса. Все объявления из СПб этой информацией обладают.\n",
    " 7. Остальны пропуски без изменений, так как не используются в исследовании.\n",
    " "
   ]
  },
  {
   "cell_type": "markdown",
   "metadata": {},
   "source": [
    "## Расчёты и добавление результатов в таблицу"
   ]
  },
  {
   "cell_type": "markdown",
   "metadata": {},
   "source": [
    "Посчитаем и добавим в таблицу:\n",
    "1. цену квадратного метра - посчитали ранее `data['price_for_square_meter']`;\n",
    "2. день недели, месяц и год публикации объявления;\n",
    "3. этаж квартиры; варианты — первый, последний, другой;\n",
    "4. соотношение жилой и общей площади, а также отношение площади кухни к общей."
   ]
  },
  {
   "cell_type": "code",
   "execution_count": 26,
   "metadata": {},
   "outputs": [],
   "source": [
    "#2\n",
    "data['weekday_publication'] = data['first_day_exposition'].dt.weekday\n",
    "data['month_publication'] = data['first_day_exposition'].dt.month\n",
    "data['year_publication'] = data['first_day_exposition'].dt.year"
   ]
  },
  {
   "cell_type": "code",
   "execution_count": 27,
   "metadata": {},
   "outputs": [],
   "source": [
    "#3\n",
    "def floor_level(line):\n",
    "    flat_floor = line['floor']\n",
    "    last_floor = line['floors_total']\n",
    "    if flat_floor == 1:\n",
    "        return 'первый'\n",
    "    elif flat_floor == last_floor:\n",
    "        return 'последний'\n",
    "    return 'другой'\n",
    "\n",
    "data['floor_level'] = data.apply(floor_level, axis = 1)"
   ]
  },
  {
   "cell_type": "code",
   "execution_count": 28,
   "metadata": {},
   "outputs": [],
   "source": [
    "#4\n",
    "data['living_to_general_area'] = data['living_area'] / data['total_area']\n",
    "data['kitchen_to_general_area'] = data['kitchen_area'] / data['total_area']"
   ]
  },
  {
   "cell_type": "code",
   "execution_count": 29,
   "metadata": {},
   "outputs": [
    {
     "data": {
      "text/html": [
       "<div>\n",
       "<style scoped>\n",
       "    .dataframe tbody tr th:only-of-type {\n",
       "        vertical-align: middle;\n",
       "    }\n",
       "\n",
       "    .dataframe tbody tr th {\n",
       "        vertical-align: top;\n",
       "    }\n",
       "\n",
       "    .dataframe thead th {\n",
       "        text-align: right;\n",
       "    }\n",
       "</style>\n",
       "<table border=\"1\" class=\"dataframe\">\n",
       "  <thead>\n",
       "    <tr style=\"text-align: right;\">\n",
       "      <th></th>\n",
       "      <th>total_images</th>\n",
       "      <th>last_price</th>\n",
       "      <th>total_area</th>\n",
       "      <th>first_day_exposition</th>\n",
       "      <th>rooms</th>\n",
       "      <th>ceiling_height</th>\n",
       "      <th>floors_total</th>\n",
       "      <th>living_area</th>\n",
       "      <th>floor</th>\n",
       "      <th>is_apartment</th>\n",
       "      <th>...</th>\n",
       "      <th>ponds_around3000</th>\n",
       "      <th>ponds_nearest</th>\n",
       "      <th>days_exposition</th>\n",
       "      <th>price_for_square_meter</th>\n",
       "      <th>weekday_publication</th>\n",
       "      <th>month_publication</th>\n",
       "      <th>year_publication</th>\n",
       "      <th>floor_level</th>\n",
       "      <th>living_to_general_area</th>\n",
       "      <th>kitchen_to_general_area</th>\n",
       "    </tr>\n",
       "  </thead>\n",
       "  <tbody>\n",
       "    <tr>\n",
       "      <td>0</td>\n",
       "      <td>20</td>\n",
       "      <td>13</td>\n",
       "      <td>108.0</td>\n",
       "      <td>2019-03-07</td>\n",
       "      <td>3</td>\n",
       "      <td>2.70</td>\n",
       "      <td>16.0</td>\n",
       "      <td>51.0</td>\n",
       "      <td>8</td>\n",
       "      <td>False</td>\n",
       "      <td>...</td>\n",
       "      <td>2.0</td>\n",
       "      <td>755.0</td>\n",
       "      <td>0</td>\n",
       "      <td>0</td>\n",
       "      <td>3</td>\n",
       "      <td>3</td>\n",
       "      <td>2019</td>\n",
       "      <td>другой</td>\n",
       "      <td>0.472222</td>\n",
       "      <td>0.231481</td>\n",
       "    </tr>\n",
       "    <tr>\n",
       "      <td>1</td>\n",
       "      <td>7</td>\n",
       "      <td>3</td>\n",
       "      <td>40.4</td>\n",
       "      <td>2018-12-04</td>\n",
       "      <td>1</td>\n",
       "      <td>2.65</td>\n",
       "      <td>11.0</td>\n",
       "      <td>18.6</td>\n",
       "      <td>1</td>\n",
       "      <td>False</td>\n",
       "      <td>...</td>\n",
       "      <td>0.0</td>\n",
       "      <td>NaN</td>\n",
       "      <td>81</td>\n",
       "      <td>0</td>\n",
       "      <td>1</td>\n",
       "      <td>12</td>\n",
       "      <td>2018</td>\n",
       "      <td>первый</td>\n",
       "      <td>0.460396</td>\n",
       "      <td>0.272277</td>\n",
       "    </tr>\n",
       "    <tr>\n",
       "      <td>2</td>\n",
       "      <td>10</td>\n",
       "      <td>5</td>\n",
       "      <td>56.0</td>\n",
       "      <td>2015-08-20</td>\n",
       "      <td>2</td>\n",
       "      <td>2.65</td>\n",
       "      <td>5.0</td>\n",
       "      <td>34.3</td>\n",
       "      <td>4</td>\n",
       "      <td>False</td>\n",
       "      <td>...</td>\n",
       "      <td>2.0</td>\n",
       "      <td>574.0</td>\n",
       "      <td>558</td>\n",
       "      <td>0</td>\n",
       "      <td>3</td>\n",
       "      <td>8</td>\n",
       "      <td>2015</td>\n",
       "      <td>другой</td>\n",
       "      <td>0.612500</td>\n",
       "      <td>0.148214</td>\n",
       "    </tr>\n",
       "    <tr>\n",
       "      <td>3</td>\n",
       "      <td>0</td>\n",
       "      <td>64</td>\n",
       "      <td>159.0</td>\n",
       "      <td>2015-07-24</td>\n",
       "      <td>3</td>\n",
       "      <td>2.65</td>\n",
       "      <td>14.0</td>\n",
       "      <td>inf</td>\n",
       "      <td>9</td>\n",
       "      <td>False</td>\n",
       "      <td>...</td>\n",
       "      <td>3.0</td>\n",
       "      <td>234.0</td>\n",
       "      <td>424</td>\n",
       "      <td>0</td>\n",
       "      <td>4</td>\n",
       "      <td>7</td>\n",
       "      <td>2015</td>\n",
       "      <td>другой</td>\n",
       "      <td>inf</td>\n",
       "      <td>0.057233</td>\n",
       "    </tr>\n",
       "    <tr>\n",
       "      <td>4</td>\n",
       "      <td>2</td>\n",
       "      <td>10</td>\n",
       "      <td>100.0</td>\n",
       "      <td>2018-06-19</td>\n",
       "      <td>2</td>\n",
       "      <td>3.03</td>\n",
       "      <td>14.0</td>\n",
       "      <td>32.0</td>\n",
       "      <td>13</td>\n",
       "      <td>False</td>\n",
       "      <td>...</td>\n",
       "      <td>1.0</td>\n",
       "      <td>48.0</td>\n",
       "      <td>121</td>\n",
       "      <td>0</td>\n",
       "      <td>1</td>\n",
       "      <td>6</td>\n",
       "      <td>2018</td>\n",
       "      <td>другой</td>\n",
       "      <td>0.320000</td>\n",
       "      <td>0.410000</td>\n",
       "    </tr>\n",
       "  </tbody>\n",
       "</table>\n",
       "<p>5 rows × 29 columns</p>\n",
       "</div>"
      ],
      "text/plain": [
       "   total_images  last_price  total_area first_day_exposition  rooms  \\\n",
       "0            20          13       108.0           2019-03-07      3   \n",
       "1             7           3        40.4           2018-12-04      1   \n",
       "2            10           5        56.0           2015-08-20      2   \n",
       "3             0          64       159.0           2015-07-24      3   \n",
       "4             2          10       100.0           2018-06-19      2   \n",
       "\n",
       "   ceiling_height  floors_total  living_area  floor  is_apartment  ...  \\\n",
       "0            2.70          16.0         51.0      8         False  ...   \n",
       "1            2.65          11.0         18.6      1         False  ...   \n",
       "2            2.65           5.0         34.3      4         False  ...   \n",
       "3            2.65          14.0          inf      9         False  ...   \n",
       "4            3.03          14.0         32.0     13         False  ...   \n",
       "\n",
       "   ponds_around3000  ponds_nearest  days_exposition  price_for_square_meter  \\\n",
       "0               2.0          755.0                0                       0   \n",
       "1               0.0            NaN               81                       0   \n",
       "2               2.0          574.0              558                       0   \n",
       "3               3.0          234.0              424                       0   \n",
       "4               1.0           48.0              121                       0   \n",
       "\n",
       "  weekday_publication  month_publication  year_publication  floor_level  \\\n",
       "0                   3                  3              2019       другой   \n",
       "1                   1                 12              2018       первый   \n",
       "2                   3                  8              2015       другой   \n",
       "3                   4                  7              2015       другой   \n",
       "4                   1                  6              2018       другой   \n",
       "\n",
       "   living_to_general_area  kitchen_to_general_area  \n",
       "0                0.472222                 0.231481  \n",
       "1                0.460396                 0.272277  \n",
       "2                0.612500                 0.148214  \n",
       "3                     inf                 0.057233  \n",
       "4                0.320000                 0.410000  \n",
       "\n",
       "[5 rows x 29 columns]"
      ]
     },
     "execution_count": 29,
     "metadata": {},
     "output_type": "execute_result"
    }
   ],
   "source": [
    "data.head()"
   ]
  },
  {
   "cell_type": "markdown",
   "metadata": {},
   "source": [
    "## Исследовательский анализ данных"
   ]
  },
  {
   "cell_type": "markdown",
   "metadata": {},
   "source": [
    "**1. Изучим следующие параметры: площадь, цена, число комнат, высота потолков. Построим гистограммы для каждого параметра.**"
   ]
  },
  {
   "cell_type": "code",
   "execution_count": 30,
   "metadata": {},
   "outputs": [],
   "source": [
    "def det_whiskers(data, column):\n",
    "    stat = data[column].describe()\n",
    "    \n",
    "    # межквартирльный размах\n",
    "    iqr = stat[6] - stat[4]\n",
    "    \n",
    "    # левый и правый \"ус\"    \n",
    "    left_whisker = round(stat[4] - 1.5 * iqr, 2)\n",
    "    right_whisker = round(stat[6] + 1.5 * iqr, 2)\n",
    "\n",
    "    # левый \"ус\" не должен быть меньше минимального значения\n",
    "    if left_whisker < stat[3]: left_whisker = stat[3] \n",
    "        \n",
    "    # правый \"ус\" не должен быть больше максимального значения\n",
    "    if right_whisker > stat[7]: right_whisker = stat[7]\n",
    "        \n",
    "    return [left_whisker, right_whisker]"
   ]
  },
  {
   "cell_type": "code",
   "execution_count": 31,
   "metadata": {
    "scrolled": true
   },
   "outputs": [
    {
     "data": {
      "image/png": "[encoded data removed]",
      "text/plain": [
       "<Figure size 648x360 with 1 Axes>"
      ]
     },
     "metadata": {
      "needs_background": "light"
     },
     "output_type": "display_data"
    },
    {
     "data": {
      "image/png": "[encoded data removed]",
      "text/plain": [
       "<Figure size 648x360 with 1 Axes>"
      ]
     },
     "metadata": {
      "needs_background": "light"
     },
     "output_type": "display_data"
    },
    {
     "data": {
      "image/png": "[encoded data removed]",
      "text/plain": [
       "<Figure size 648x360 with 1 Axes>"
      ]
     },
     "metadata": {
      "needs_background": "light"
     },
     "output_type": "display_data"
    },
    {
     "data": {
      "image/png": "[encoded data removed]",
      "text/plain": [
       "<Figure size 648x360 with 1 Axes>"
      ]
     },
     "metadata": {
      "needs_background": "light"
     },
     "output_type": "display_data"
    }
   ],
   "source": [
    "columns = ['total_area', 'last_price', 'rooms', 'ceiling_height']\n",
    "\n",
    "for col in columns:\n",
    "    rr = det_whiskers(data, col)\n",
    "    data.plot(y=col, kind='hist', bins=100, grid=True, figsize=(9,5), range=(rr[0], rr[1]), title=col)"
   ]
  },
  {
   "cell_type": "code",
   "execution_count": 32,
   "metadata": {},
   "outputs": [
    {
     "data": {
      "text/plain": [
       "count    23650.000000\n",
       "mean        60.329069\n",
       "std         35.661808\n",
       "min         12.000000\n",
       "25%         40.000000\n",
       "50%         52.000000\n",
       "75%         69.700000\n",
       "max        900.000000\n",
       "Name: total_area, dtype: float64"
      ]
     },
     "execution_count": 32,
     "metadata": {},
     "output_type": "execute_result"
    }
   ],
   "source": [
    "data['total_area'].describe()"
   ]
  },
  {
   "cell_type": "code",
   "execution_count": 33,
   "metadata": {},
   "outputs": [
    {
     "data": {
      "text/plain": [
       "count    23650.000000\n",
       "mean         6.052643\n",
       "std         10.923801\n",
       "min          0.000000\n",
       "25%          3.000000\n",
       "50%          4.000000\n",
       "75%          6.000000\n",
       "max        763.000000\n",
       "Name: last_price, dtype: float64"
      ]
     },
     "execution_count": 33,
     "metadata": {},
     "output_type": "execute_result"
    }
   ],
   "source": [
    "data['last_price'].describe()"
   ]
  },
  {
   "cell_type": "code",
   "execution_count": 34,
   "metadata": {},
   "outputs": [
    {
     "data": {
      "text/plain": [
       "count    23650.000000\n",
       "mean         2.070106\n",
       "std          1.078620\n",
       "min          0.000000\n",
       "25%          1.000000\n",
       "50%          2.000000\n",
       "75%          3.000000\n",
       "max         19.000000\n",
       "Name: rooms, dtype: float64"
      ]
     },
     "execution_count": 34,
     "metadata": {},
     "output_type": "execute_result"
    }
   ],
   "source": [
    "data['rooms'].describe()"
   ]
  },
  {
   "cell_type": "code",
   "execution_count": 35,
   "metadata": {},
   "outputs": [
    {
     "data": {
      "text/plain": [
       "count    23650.000000\n",
       "mean         2.724311\n",
       "std          0.989255\n",
       "min          1.000000\n",
       "25%          2.600000\n",
       "50%          2.650000\n",
       "75%          2.700000\n",
       "max        100.000000\n",
       "Name: ceiling_height, dtype: float64"
      ]
     },
     "execution_count": 35,
     "metadata": {},
     "output_type": "execute_result"
    }
   ],
   "source": [
    "data['ceiling_height'].describe()"
   ]
  },
  {
   "cell_type": "markdown",
   "metadata": {},
   "source": [
    "**Промежуточные выводы:**\n",
    "1. Диапазон площади от 12 до 900 квадратных метров, медиана 52 м2.Распределение нормальное.\n",
    "2. Медианное значение стоимости (4,65 млн) значительно отличается от среднего (6,54 млн). \n",
    "3. Большая часть квартир из базы имеет от 1 до 3 комнат.\n",
    "4. Среднее (2,77 м) и медианное (2,65 м.) значения высоты потолков различаются не критично.\n",
    "5. В данных есть неадекватные значения, не все из которых мы можем корректно заменить, вопросы по ним желательно задать отвентственным по данному вопросу коллегам.\n",
    "\n",
    "\"Средняя квартира\" - две комнаты, площадью 52 кв м, потолки 2,65 м, продается 95 дней по цене 4,65 млн руб."
   ]
  },
  {
   "cell_type": "markdown",
   "metadata": {},
   "source": [
    "**2. Изучим время продажи квартиры. Построим гистограмму. Посчитаем среднее и медиану. Опишем, сколько обычно занимает продажа. Попробуем ответить, когда можно считать, что продажи прошли очень быстро, а когда необычно долго.**\n",
    "\n",
    "Есть нюанс с нулевыми значениями: часть из них могла быть продана день в день, с другой стороны снятие объявления с продажи может быть результатом ошибочной публикации, смены планов продавца, может это снятие публикаций фейковых страниц силами модераторов и т.д. "
   ]
  },
  {
   "cell_type": "code",
   "execution_count": 36,
   "metadata": {},
   "outputs": [
    {
     "data": {
      "text/plain": [
       "count    20470.000000\n",
       "mean       180.753200\n",
       "std        219.777916\n",
       "min          1.000000\n",
       "25%         45.000000\n",
       "50%         95.000000\n",
       "75%        231.000000\n",
       "max       1580.000000\n",
       "Name: days_exposition, dtype: float64"
      ]
     },
     "execution_count": 36,
     "metadata": {},
     "output_type": "execute_result"
    }
   ],
   "source": [
    "data[data['days_exposition']!=0]['days_exposition'].describe()"
   ]
  },
  {
   "cell_type": "code",
   "execution_count": 45,
   "metadata": {},
   "outputs": [
    {
     "data": {
      "image/png": "[encoded data removed]",
      "text/plain": [
       "<Figure size 432x288 with 1 Axes>"
      ]
     },
     "metadata": {
      "needs_background": "light"
     },
     "output_type": "display_data"
    },
    {
     "data": {
      "image/png": "[encoded data removed]",
      "text/plain": [
       "<Figure size 432x288 with 1 Axes>"
      ]
     },
     "metadata": {
      "needs_background": "light"
     },
     "output_type": "display_data"
    },
    {
     "data": {
      "image/png": "[encoded data removed]",
      "text/plain": [
       "<Figure size 432x288 with 1 Axes>"
      ]
     },
     "metadata": {
      "needs_background": "light"
     },
     "output_type": "display_data"
    },
    {
     "data": {
      "image/png": "[encoded data removed]",
      "text/plain": [
       "<Figure size 432x288 with 1 Axes>"
      ]
     },
     "metadata": {
      "needs_background": "light"
     },
     "output_type": "display_data"
    }
   ],
   "source": [
    "df_lst = [data, days_exposition_data]\n",
    "\n",
    "for df in df_lst:\n",
    "    rr = det_whiskers(df, 'days_exposition')\n",
    "    df.plot(y='days_exposition', kind='hist', bins=100, grid=True, range=(rr[0], rr[1]), title='days_exposition')\n",
    "    plt.show()\n",
    "    \n",
    "    plt.ylim(rr[0], rr[1])\n",
    "    df.boxplot(column='days_exposition')\n",
    "    plt.show()\n"
   ]
  },
  {
   "cell_type": "markdown",
   "metadata": {},
   "source": [
    "**Вывод:** изучив гистограмму и данные метода describe(), можем сказать, что медиана составляет 95, а среднее значение - 180 дней. У нас есть нетсандартные отклонения в точках 7, 30, 45, 60, 90 дней. Оказалось, что это регламентные <a href='https://yandex.ru/support/realty/owner/home/add-ads-housing.html#concept_ohg_pft_flb'>сроки публикации</a> объявлений для данного сервиса. Судя по диаграмме разамаха и описанию данных, среднее время продажи около 95 дней, самая долгая продажа в прежделах 1,5 квартильного размаха - примерно 460 дней. "
   ]
  },
  {
   "cell_type": "code",
   "execution_count": 39,
   "metadata": {},
   "outputs": [
    {
     "data": {
      "text/html": [
       "<div>\n",
       "<style scoped>\n",
       "    .dataframe tbody tr th:only-of-type {\n",
       "        vertical-align: middle;\n",
       "    }\n",
       "\n",
       "    .dataframe tbody tr th {\n",
       "        vertical-align: top;\n",
       "    }\n",
       "\n",
       "    .dataframe thead th {\n",
       "        text-align: right;\n",
       "    }\n",
       "</style>\n",
       "<table border=\"1\" class=\"dataframe\">\n",
       "  <thead>\n",
       "    <tr style=\"text-align: right;\">\n",
       "      <th></th>\n",
       "      <th>total_images</th>\n",
       "      <th>last_price</th>\n",
       "      <th>total_area</th>\n",
       "      <th>first_day_exposition</th>\n",
       "      <th>rooms</th>\n",
       "      <th>ceiling_height</th>\n",
       "      <th>floors_total</th>\n",
       "      <th>living_area</th>\n",
       "      <th>floor</th>\n",
       "      <th>is_apartment</th>\n",
       "      <th>...</th>\n",
       "      <th>ponds_around3000</th>\n",
       "      <th>ponds_nearest</th>\n",
       "      <th>days_exposition</th>\n",
       "      <th>price_for_square_meter</th>\n",
       "      <th>weekday_publication</th>\n",
       "      <th>month_publication</th>\n",
       "      <th>year_publication</th>\n",
       "      <th>floor_level</th>\n",
       "      <th>living_to_general_area</th>\n",
       "      <th>kitchen_to_general_area</th>\n",
       "    </tr>\n",
       "  </thead>\n",
       "  <tbody>\n",
       "    <tr>\n",
       "      <td>78</td>\n",
       "      <td>9</td>\n",
       "      <td>4</td>\n",
       "      <td>37.0</td>\n",
       "      <td>2018-02-22</td>\n",
       "      <td>1</td>\n",
       "      <td>2.65</td>\n",
       "      <td>19.0</td>\n",
       "      <td>18.0</td>\n",
       "      <td>6</td>\n",
       "      <td>False</td>\n",
       "      <td>...</td>\n",
       "      <td>0.0</td>\n",
       "      <td>NaN</td>\n",
       "      <td>45</td>\n",
       "      <td>0</td>\n",
       "      <td>3</td>\n",
       "      <td>2</td>\n",
       "      <td>2018</td>\n",
       "      <td>другой</td>\n",
       "      <td>0.486486</td>\n",
       "      <td>0.289189</td>\n",
       "    </tr>\n",
       "    <tr>\n",
       "      <td>89</td>\n",
       "      <td>9</td>\n",
       "      <td>2</td>\n",
       "      <td>63.0</td>\n",
       "      <td>2018-10-25</td>\n",
       "      <td>3</td>\n",
       "      <td>2.50</td>\n",
       "      <td>5.0</td>\n",
       "      <td>43.0</td>\n",
       "      <td>4</td>\n",
       "      <td>False</td>\n",
       "      <td>...</td>\n",
       "      <td>NaN</td>\n",
       "      <td>NaN</td>\n",
       "      <td>45</td>\n",
       "      <td>0</td>\n",
       "      <td>3</td>\n",
       "      <td>10</td>\n",
       "      <td>2018</td>\n",
       "      <td>другой</td>\n",
       "      <td>0.682540</td>\n",
       "      <td>0.142857</td>\n",
       "    </tr>\n",
       "    <tr>\n",
       "      <td>110</td>\n",
       "      <td>6</td>\n",
       "      <td>3</td>\n",
       "      <td>72.3</td>\n",
       "      <td>2017-09-29</td>\n",
       "      <td>2</td>\n",
       "      <td>2.65</td>\n",
       "      <td>3.0</td>\n",
       "      <td>27.4</td>\n",
       "      <td>2</td>\n",
       "      <td>False</td>\n",
       "      <td>...</td>\n",
       "      <td>NaN</td>\n",
       "      <td>NaN</td>\n",
       "      <td>45</td>\n",
       "      <td>0</td>\n",
       "      <td>4</td>\n",
       "      <td>9</td>\n",
       "      <td>2017</td>\n",
       "      <td>другой</td>\n",
       "      <td>0.378976</td>\n",
       "      <td>0.326418</td>\n",
       "    </tr>\n",
       "    <tr>\n",
       "      <td>153</td>\n",
       "      <td>12</td>\n",
       "      <td>4</td>\n",
       "      <td>55.0</td>\n",
       "      <td>2017-05-21</td>\n",
       "      <td>2</td>\n",
       "      <td>2.57</td>\n",
       "      <td>9.0</td>\n",
       "      <td>31.2</td>\n",
       "      <td>2</td>\n",
       "      <td>False</td>\n",
       "      <td>...</td>\n",
       "      <td>0.0</td>\n",
       "      <td>NaN</td>\n",
       "      <td>45</td>\n",
       "      <td>0</td>\n",
       "      <td>6</td>\n",
       "      <td>5</td>\n",
       "      <td>2017</td>\n",
       "      <td>другой</td>\n",
       "      <td>0.567273</td>\n",
       "      <td>0.150909</td>\n",
       "    </tr>\n",
       "    <tr>\n",
       "      <td>158</td>\n",
       "      <td>15</td>\n",
       "      <td>3</td>\n",
       "      <td>47.3</td>\n",
       "      <td>2017-11-07</td>\n",
       "      <td>2</td>\n",
       "      <td>2.65</td>\n",
       "      <td>5.0</td>\n",
       "      <td>27.5</td>\n",
       "      <td>2</td>\n",
       "      <td>False</td>\n",
       "      <td>...</td>\n",
       "      <td>NaN</td>\n",
       "      <td>NaN</td>\n",
       "      <td>45</td>\n",
       "      <td>0</td>\n",
       "      <td>1</td>\n",
       "      <td>11</td>\n",
       "      <td>2017</td>\n",
       "      <td>другой</td>\n",
       "      <td>0.581395</td>\n",
       "      <td>0.179704</td>\n",
       "    </tr>\n",
       "    <tr>\n",
       "      <td>...</td>\n",
       "      <td>...</td>\n",
       "      <td>...</td>\n",
       "      <td>...</td>\n",
       "      <td>...</td>\n",
       "      <td>...</td>\n",
       "      <td>...</td>\n",
       "      <td>...</td>\n",
       "      <td>...</td>\n",
       "      <td>...</td>\n",
       "      <td>...</td>\n",
       "      <td>...</td>\n",
       "      <td>...</td>\n",
       "      <td>...</td>\n",
       "      <td>...</td>\n",
       "      <td>...</td>\n",
       "      <td>...</td>\n",
       "      <td>...</td>\n",
       "      <td>...</td>\n",
       "      <td>...</td>\n",
       "      <td>...</td>\n",
       "      <td>...</td>\n",
       "    </tr>\n",
       "    <tr>\n",
       "      <td>23601</td>\n",
       "      <td>10</td>\n",
       "      <td>2</td>\n",
       "      <td>43.4</td>\n",
       "      <td>2018-01-11</td>\n",
       "      <td>2</td>\n",
       "      <td>2.65</td>\n",
       "      <td>5.0</td>\n",
       "      <td>inf</td>\n",
       "      <td>1</td>\n",
       "      <td>False</td>\n",
       "      <td>...</td>\n",
       "      <td>2.0</td>\n",
       "      <td>397.0</td>\n",
       "      <td>45</td>\n",
       "      <td>0</td>\n",
       "      <td>3</td>\n",
       "      <td>1</td>\n",
       "      <td>2018</td>\n",
       "      <td>первый</td>\n",
       "      <td>inf</td>\n",
       "      <td>0.209677</td>\n",
       "    </tr>\n",
       "    <tr>\n",
       "      <td>23613</td>\n",
       "      <td>4</td>\n",
       "      <td>3</td>\n",
       "      <td>52.0</td>\n",
       "      <td>2018-03-04</td>\n",
       "      <td>3</td>\n",
       "      <td>2.65</td>\n",
       "      <td>5.0</td>\n",
       "      <td>inf</td>\n",
       "      <td>2</td>\n",
       "      <td>False</td>\n",
       "      <td>...</td>\n",
       "      <td>0.0</td>\n",
       "      <td>NaN</td>\n",
       "      <td>45</td>\n",
       "      <td>0</td>\n",
       "      <td>6</td>\n",
       "      <td>3</td>\n",
       "      <td>2018</td>\n",
       "      <td>другой</td>\n",
       "      <td>inf</td>\n",
       "      <td>0.175000</td>\n",
       "    </tr>\n",
       "    <tr>\n",
       "      <td>23670</td>\n",
       "      <td>9</td>\n",
       "      <td>2</td>\n",
       "      <td>45.6</td>\n",
       "      <td>2018-02-08</td>\n",
       "      <td>1</td>\n",
       "      <td>2.80</td>\n",
       "      <td>9.0</td>\n",
       "      <td>inf</td>\n",
       "      <td>2</td>\n",
       "      <td>False</td>\n",
       "      <td>...</td>\n",
       "      <td>NaN</td>\n",
       "      <td>NaN</td>\n",
       "      <td>45</td>\n",
       "      <td>0</td>\n",
       "      <td>3</td>\n",
       "      <td>2</td>\n",
       "      <td>2018</td>\n",
       "      <td>другой</td>\n",
       "      <td>inf</td>\n",
       "      <td>0.199561</td>\n",
       "    </tr>\n",
       "    <tr>\n",
       "      <td>23679</td>\n",
       "      <td>0</td>\n",
       "      <td>2</td>\n",
       "      <td>35.0</td>\n",
       "      <td>2017-12-08</td>\n",
       "      <td>1</td>\n",
       "      <td>2.65</td>\n",
       "      <td>9.0</td>\n",
       "      <td>inf</td>\n",
       "      <td>4</td>\n",
       "      <td>False</td>\n",
       "      <td>...</td>\n",
       "      <td>NaN</td>\n",
       "      <td>NaN</td>\n",
       "      <td>45</td>\n",
       "      <td>0</td>\n",
       "      <td>4</td>\n",
       "      <td>12</td>\n",
       "      <td>2017</td>\n",
       "      <td>другой</td>\n",
       "      <td>inf</td>\n",
       "      <td>0.260000</td>\n",
       "    </tr>\n",
       "    <tr>\n",
       "      <td>23695</td>\n",
       "      <td>14</td>\n",
       "      <td>3</td>\n",
       "      <td>59.0</td>\n",
       "      <td>2018-01-15</td>\n",
       "      <td>3</td>\n",
       "      <td>2.65</td>\n",
       "      <td>5.0</td>\n",
       "      <td>38.0</td>\n",
       "      <td>4</td>\n",
       "      <td>False</td>\n",
       "      <td>...</td>\n",
       "      <td>NaN</td>\n",
       "      <td>NaN</td>\n",
       "      <td>45</td>\n",
       "      <td>0</td>\n",
       "      <td>0</td>\n",
       "      <td>1</td>\n",
       "      <td>2018</td>\n",
       "      <td>другой</td>\n",
       "      <td>0.644068</td>\n",
       "      <td>0.144068</td>\n",
       "    </tr>\n",
       "  </tbody>\n",
       "</table>\n",
       "<p>879 rows × 29 columns</p>\n",
       "</div>"
      ],
      "text/plain": [
       "       total_images  last_price  total_area first_day_exposition  rooms  \\\n",
       "78                9           4        37.0           2018-02-22      1   \n",
       "89                9           2        63.0           2018-10-25      3   \n",
       "110               6           3        72.3           2017-09-29      2   \n",
       "153              12           4        55.0           2017-05-21      2   \n",
       "158              15           3        47.3           2017-11-07      2   \n",
       "...             ...         ...         ...                  ...    ...   \n",
       "23601            10           2        43.4           2018-01-11      2   \n",
       "23613             4           3        52.0           2018-03-04      3   \n",
       "23670             9           2        45.6           2018-02-08      1   \n",
       "23679             0           2        35.0           2017-12-08      1   \n",
       "23695            14           3        59.0           2018-01-15      3   \n",
       "\n",
       "       ceiling_height  floors_total  living_area  floor  is_apartment  ...  \\\n",
       "78               2.65          19.0         18.0      6         False  ...   \n",
       "89               2.50           5.0         43.0      4         False  ...   \n",
       "110              2.65           3.0         27.4      2         False  ...   \n",
       "153              2.57           9.0         31.2      2         False  ...   \n",
       "158              2.65           5.0         27.5      2         False  ...   \n",
       "...               ...           ...          ...    ...           ...  ...   \n",
       "23601            2.65           5.0          inf      1         False  ...   \n",
       "23613            2.65           5.0          inf      2         False  ...   \n",
       "23670            2.80           9.0          inf      2         False  ...   \n",
       "23679            2.65           9.0          inf      4         False  ...   \n",
       "23695            2.65           5.0         38.0      4         False  ...   \n",
       "\n",
       "       ponds_around3000  ponds_nearest  days_exposition  \\\n",
       "78                  0.0            NaN               45   \n",
       "89                  NaN            NaN               45   \n",
       "110                 NaN            NaN               45   \n",
       "153                 0.0            NaN               45   \n",
       "158                 NaN            NaN               45   \n",
       "...                 ...            ...              ...   \n",
       "23601               2.0          397.0               45   \n",
       "23613               0.0            NaN               45   \n",
       "23670               NaN            NaN               45   \n",
       "23679               NaN            NaN               45   \n",
       "23695               NaN            NaN               45   \n",
       "\n",
       "       price_for_square_meter weekday_publication  month_publication  \\\n",
       "78                          0                   3                  2   \n",
       "89                          0                   3                 10   \n",
       "110                         0                   4                  9   \n",
       "153                         0                   6                  5   \n",
       "158                         0                   1                 11   \n",
       "...                       ...                 ...                ...   \n",
       "23601                       0                   3                  1   \n",
       "23613                       0                   6                  3   \n",
       "23670                       0                   3                  2   \n",
       "23679                       0                   4                 12   \n",
       "23695                       0                   0                  1   \n",
       "\n",
       "       year_publication  floor_level  living_to_general_area  \\\n",
       "78                 2018       другой                0.486486   \n",
       "89                 2018       другой                0.682540   \n",
       "110                2017       другой                0.378976   \n",
       "153                2017       другой                0.567273   \n",
       "158                2017       другой                0.581395   \n",
       "...                 ...          ...                     ...   \n",
       "23601              2018       первый                     inf   \n",
       "23613              2018       другой                     inf   \n",
       "23670              2018       другой                     inf   \n",
       "23679              2017       другой                     inf   \n",
       "23695              2018       другой                0.644068   \n",
       "\n",
       "       kitchen_to_general_area  \n",
       "78                    0.289189  \n",
       "89                    0.142857  \n",
       "110                   0.326418  \n",
       "153                   0.150909  \n",
       "158                   0.179704  \n",
       "...                        ...  \n",
       "23601                 0.209677  \n",
       "23613                 0.175000  \n",
       "23670                 0.199561  \n",
       "23679                 0.260000  \n",
       "23695                 0.144068  \n",
       "\n",
       "[879 rows x 29 columns]"
      ]
     },
     "execution_count": 39,
     "metadata": {},
     "output_type": "execute_result"
    }
   ],
   "source": [
    "data[data['days_exposition']==45]"
   ]
  },
  {
   "cell_type": "markdown",
   "metadata": {},
   "source": [
    "**Вывод:** среди этих значений нет ярко выраженных аномалий. Значит наша теория о сроках публикации вероятнее всего верна, можно дополнительно уточнить этот вопрос у коллег, предоставивших данные. \n",
    "\n",
    "Срежем выбросы, находящиеся за пределами межквартильного интервала."
   ]
  },
  {
   "cell_type": "markdown",
   "metadata": {},
   "source": [
    "Вывод: Необоснованно долгие продажи - свыше 460 дней. Также можем сказать, опираясь на метод `decribe()`, что межквартильный размах времени продажи составляет: 45 - 231 день,  среднее значение - 180, медиана - 95 дней. Нормальные значения лежат в пределах 460 дней."
   ]
  },
  {
   "cell_type": "markdown",
   "metadata": {},
   "source": [
    "**3. Уберём редкие и выбивающиеся значения. Опишем, какие особенности обнаружили.**"
   ]
  },
  {
   "cell_type": "markdown",
   "metadata": {},
   "source": [
    "Диаграмма показывает выбросы в области цен выше 10,8 млн. рублей. Такие квартиры скорее редкость и интересны небольшой группе клиентов премиального сегмента. При необходимости их можно было бы разобрать отдельно, но в нашем исследовании они скорее всего не понадобятся, срежем их."
   ]
  },
  {
   "cell_type": "code",
   "execution_count": null,
   "metadata": {},
   "outputs": [],
   "source": [
    "days_exposition_data.head()"
   ]
  },
  {
   "cell_type": "markdown",
   "metadata": {},
   "source": [
    "Посмотрим, как буду выглядеть гистограммы и диаграмма размаха после того, как мы срежем аномальные значения 7, 30, 45, 60, 90"
   ]
  },
  {
   "cell_type": "code",
   "execution_count": null,
   "metadata": {},
   "outputs": [],
   "source": [
    "\n",
    "good_data = data.query('days_exposition != 7 and days_exposition != 30 and days_exposition != 45 and days_exposition != 60 and days_exposition != 90 and days_exposition != 0')\n",
    "\n",
    "\n",
    "plt.boxplot(good_data['days_exposition'])\n",
    "plt.ylim(1,600)\n",
    "\n",
    "\n",
    "good_data.plot(y = 'days_exposition', kind = 'hist', bins = 30, grid = True, range = (1,600))\n",
    "good_data.plot(y = 'days_exposition', kind = 'hist', bins = 56, grid = True, range = (1,600))\n",
    "\n",
    "\n",
    "good_data['days_exposition'].describe()\n"
   ]
  },
  {
   "cell_type": "markdown",
   "metadata": {},
   "source": [
    "**Вывод:** видим, что закономерно произошло смещение среднего значения и медианы в большую сторону, теперь они составляет 195 и 114 дней соответственно. Нормальные значения лежат теперь в пределах 580 дней."
   ]
  },
  {
   "cell_type": "markdown",
   "metadata": {},
   "source": [
    "**4. Изучим факторы больше всего влияющие на стоимость квартиры. Точнее: цена от площади, числа комнат, удалённости от центра, зависимость цены от этаже: первый, последний, другой. Зависимость от даты размещения: дня недели, месяца и года.**"
   ]
  },
  {
   "cell_type": "code",
   "execution_count": null,
   "metadata": {},
   "outputs": [],
   "source": [
    "days_exposition_data=days_exposition_data.query('last_price<10.8')"
   ]
  },
  {
   "cell_type": "code",
   "execution_count": null,
   "metadata": {},
   "outputs": [],
   "source": [
    "(days_exposition_data\n",
    "    .sort_values(by='last_price',ascending=True)\n",
    "    .plot(x='last_price',y='total_area',grid=True, style='o',figsize=(30,9))\n",
    ")"
   ]
  },
  {
   "cell_type": "code",
   "execution_count": null,
   "metadata": {},
   "outputs": [],
   "source": [
    "days_exposition_data['last_price'].corr(days_exposition_data['total_area'])"
   ]
  },
  {
   "cell_type": "markdown",
   "metadata": {},
   "source": [
    "Коэффициент корреляции составляет 0.68, корреляция положительная, зависимость ощутимая. "
   ]
  },
  {
   "cell_type": "code",
   "execution_count": null,
   "metadata": {},
   "outputs": [],
   "source": [
    "(days_exposition_data\n",
    "     .groupby('rooms')['last_price'].median()\n",
    "     .plot(x='rooms', y='last_price', style='x-', grid=True, figsize=(12,9))\n",
    ")"
   ]
  },
  {
   "cell_type": "code",
   "execution_count": null,
   "metadata": {},
   "outputs": [],
   "source": [
    "days_exposition_data['last_price'].corr(days_exposition_data[\"rooms\"])"
   ]
  },
  {
   "cell_type": "markdown",
   "metadata": {},
   "source": [
    "Корреляция цены от количества комнат также прямая и положительная, 0.44, при этом зависимость справедлива до пикового значения в шесть комнат. Если их больше, то удельная цена за квадрат падает."
   ]
  },
  {
   "cell_type": "code",
   "execution_count": null,
   "metadata": {},
   "outputs": [],
   "source": [
    "(days_exposition_data\n",
    "    .groupby('floor_level')['last_price'].median()\n",
    "    .plot(x='floor_level',y='last_price',kind='bar')\n",
    ")"
   ]
  },
  {
   "cell_type": "code",
   "execution_count": null,
   "metadata": {},
   "outputs": [],
   "source": [
    "days_exposition_data['floor'].corr(days_exposition_data['last_price'])"
   ]
  },
  {
   "cell_type": "markdown",
   "metadata": {},
   "source": [
    "Квартиры на первом и последнем этажах дешевле остальных. Корреляция очень слабая - 0.14."
   ]
  },
  {
   "cell_type": "code",
   "execution_count": null,
   "metadata": {},
   "outputs": [],
   "source": [
    "(days_exposition_data\n",
    "     .groupby('weekday_publication')['last_price'].count()\n",
    "     .plot(x='weekday_publication',y='last_price',kind='bar')\n",
    ")"
   ]
  },
  {
   "cell_type": "markdown",
   "metadata": {},
   "source": [
    "Чаще всего продажи совершаются во вторник, четверг и пятницу."
   ]
  },
  {
   "cell_type": "code",
   "execution_count": null,
   "metadata": {},
   "outputs": [],
   "source": [
    "(days_exposition_data\n",
    "     .groupby('month_publication')['last_price'].count()\n",
    "     .plot(x='month_publication',y='last_price',kind='bar')\n",
    ")"
   ]
  },
  {
   "cell_type": "markdown",
   "metadata": {},
   "source": [
    "Видны ощутимые снижения сделок в месяцы январь, май, декабрь, судя по всему связано с большим количеством праздников, также меньше сделок летом, так как многие люди в это время в отпуске."
   ]
  },
  {
   "cell_type": "code",
   "execution_count": null,
   "metadata": {},
   "outputs": [],
   "source": [
    "(days_exposition_data\n",
    "     .groupby('year_publication')['last_price'].count()\n",
    "     .plot(x='year_publication',y='last_price',kind='bar')\n",
    ")"
   ]
  },
  {
   "cell_type": "markdown",
   "metadata": {},
   "source": [
    "Пик продаж - 17, 18 год."
   ]
  },
  {
   "cell_type": "markdown",
   "metadata": {},
   "source": [
    "**5. Выберем 10 населённых пунктов с наибольшим числом объявлений. Посчитаем среднюю цену квадратного метра в этих населённых пунктах. Выделим населённые пункты с самой высокой и низкой стоимостью жилья.**"
   ]
  },
  {
   "cell_type": "code",
   "execution_count": null,
   "metadata": {},
   "outputs": [],
   "source": [
    "price_and_location=days_exposition_data.pivot_table(index='locality_name',values='price_for_square_meter',aggfunc=('count','median'))\n",
    "price_and_location.sort_values(by='count',ascending=False).head(10)"
   ]
  },
  {
   "cell_type": "markdown",
   "metadata": {},
   "source": [
    "Дороже всего стоимость в СПб, Кудрово, Парголово, дешевле всего - в Выборге и Всеволожске."
   ]
  },
  {
   "cell_type": "markdown",
   "metadata": {},
   "source": [
    "**6. Изучим  квартиры в Санкт-Петербурге. Выясним, какая область входит в центр. Создадим столбец с расстоянием до центра в км. После этого посчитаем среднюю цену для каждого километра. Построим график зависимости от удалённости от центра. Определим границу, где график сильно меняется, — это и будет центральная зона.**"
   ]
  },
  {
   "cell_type": "code",
   "execution_count": null,
   "metadata": {},
   "outputs": [],
   "source": [
    "days_exposition_data['cityCenters_nearest_km']=days_exposition_data['cityCenters_nearest']/1000"
   ]
  },
  {
   "cell_type": "code",
   "execution_count": null,
   "metadata": {},
   "outputs": [],
   "source": [
    "days_exposition_data['coast_per_km'] = days_exposition_data['last_price']/days_exposition_data['cityCenters_nearest_km']\n",
    "spb_reg = days_exposition_data.query('locality_name == \"Санкт-Петербург\"')\n",
    "spb_reg.head()"
   ]
  },
  {
   "cell_type": "code",
   "execution_count": null,
   "metadata": {},
   "outputs": [],
   "source": [
    "(spb_reg\n",
    "     .sort_values(by='cityCenters_nearest_km',ascending=True)\n",
    "     .plot(x='cityCenters_nearest_km',y='coast_per_km', style='-',figsize=(13,4))\n",
    ")"
   ]
  },
  {
   "cell_type": "markdown",
   "metadata": {},
   "source": [
    "Примерно с пятого  км больших изменений нет, примем это значение за искомую границу."
   ]
  },
  {
   "cell_type": "markdown",
   "metadata": {},
   "source": [
    "**7. Выделим сегмент квартир в центре. Проанализируем эту территорию и изучим следующие параметры: площадь, цена, число комнат, высота потолков. Также выделим факторы, которые влияют на стоимость квартиры (число комнат, этаж, удалённость от центра, дата размещения объявления). Сделаем выводы.**"
   ]
  },
  {
   "cell_type": "code",
   "execution_count": null,
   "metadata": {},
   "outputs": [],
   "source": [
    "spb_center=spb_reg.query('cityCenters_nearest_km<5')\n",
    "spb_center['last_price'].hist(bins=30)"
   ]
  },
  {
   "cell_type": "markdown",
   "metadata": {},
   "source": [
    "Средняя цена в этом районе составляет 7-8 млн. руб."
   ]
  },
  {
   "cell_type": "code",
   "execution_count": null,
   "metadata": {},
   "outputs": [],
   "source": [
    "spb_center['total_area'].hist(bins=30)"
   ]
  },
  {
   "cell_type": "markdown",
   "metadata": {},
   "source": [
    "Наибольшее количество квартир с площадью 60-70 кв. м."
   ]
  },
  {
   "cell_type": "code",
   "execution_count": null,
   "metadata": {},
   "outputs": [],
   "source": [
    "spb_center['rooms'].hist(bins=30)"
   ]
  },
  {
   "cell_type": "markdown",
   "metadata": {},
   "source": [
    "Больше всего двухкомнатных квартир."
   ]
  },
  {
   "cell_type": "code",
   "execution_count": null,
   "metadata": {
    "scrolled": true
   },
   "outputs": [],
   "source": [
    "spb_center['ceiling_height'].hist(bins=30,range=(2.5,4.5))"
   ]
  },
  {
   "cell_type": "markdown",
   "metadata": {},
   "source": [
    "Стандартная высота 2.6 м."
   ]
  },
  {
   "cell_type": "code",
   "execution_count": null,
   "metadata": {},
   "outputs": [],
   "source": [
    "(spb_center\n",
    "     .sort_values(by='last_price',ascending=True)\n",
    "     .groupby('rooms')['last_price'].median()\n",
    "     .plot(x='rooms',y='last_price',style='x-',grid=True,figsize=(14,6),legend=True)\n",
    ")\n",
    "\n",
    "\n",
    "(days_exposition_data\n",
    "     .groupby('rooms')['last_price'].median()\n",
    "     .plot(x='rooms',y='last_price',style='x-',grid=True,figsize=(14,6),legend=True)\n",
    ")\n",
    "plt.show()"
   ]
  },
  {
   "cell_type": "markdown",
   "metadata": {},
   "source": [
    "Квартиры в центре значительно дороже, пиковые значения - 5 комнат для центра, 6 комнат для всей выборки, скорее всего более высокая цена шести комнат на втором графике говорит о том, что это количество комнат в жилом доме, а не квартире, либо это могут быть дорогие загородние ЖК. При необходимости можно будет в будущем копнуть глубже."
   ]
  },
  {
   "cell_type": "code",
   "execution_count": null,
   "metadata": {},
   "outputs": [],
   "source": [
    "(spb_center\n",
    "    .groupby('floor_level')['last_price'].median()\n",
    "    .plot(x='floor_level',y='last_price',style='x-',legend=True)\n",
    ")\n",
    "\n",
    "\n",
    "(days_exposition_data\n",
    "    .groupby('floor_level')['last_price'].median()\n",
    "    .plot(x='floor_level',y='last_price',style='x-',legend=True)\n",
    ")\n",
    "\n",
    "plt.show()"
   ]
  },
  {
   "cell_type": "markdown",
   "metadata": {},
   "source": [
    "Графики повторяют друг друга, первый этаж наименее популярен, квартиры в центре дороже."
   ]
  },
  {
   "cell_type": "code",
   "execution_count": null,
   "metadata": {},
   "outputs": [],
   "source": [
    "(spb_center\n",
    "     .sort_values(by='cityCenters_nearest',ascending=True)\n",
    "     .plot(x='cityCenters_nearest',y='last_price',style='o',alpha=0.2)\n",
    ")\n",
    "\n",
    "(days_exposition_data\n",
    "     .sort_values(by='cityCenters_nearest',ascending=True)\n",
    "     .plot(x='cityCenters_nearest',y='last_price',style='o',alpha=0.2)\n",
    ")\n",
    "plt.show()"
   ]
  },
  {
   "cell_type": "markdown",
   "metadata": {},
   "source": [
    "Большая часть квартир на первом графике расположена на расстоянии 3,5-5 км, их средняя стоимость 5-9 млн, разброс большой. На втором графике высокая кучномть, видно гораздо большее предложение, большая часть квартир расположена в пределах 35 км. "
   ]
  },
  {
   "cell_type": "code",
   "execution_count": null,
   "metadata": {},
   "outputs": [],
   "source": [
    "(spb_center\n",
    "     .groupby('weekday_publication')['last_price'].count()\n",
    "     .plot(x='weekday_publication',y='last_price',style='x',legend=True)\n",
    ")\n",
    "\n",
    "(days_exposition_data\n",
    "     .groupby('weekday_publication')['last_price'].count()\n",
    "     .plot(x='weekday_publication',y='last_price',style='x',legend=True)\n",
    ")\n",
    "\n",
    "plt.show()"
   ]
  },
  {
   "cell_type": "markdown",
   "metadata": {},
   "source": [
    "В Выходные продажи падают, из-за более высокой выборки на одном графике это выражено ярче."
   ]
  },
  {
   "cell_type": "code",
   "execution_count": null,
   "metadata": {},
   "outputs": [],
   "source": [
    "(spb_center\n",
    "     .groupby('month_publication')['last_price'].count()\n",
    "     .plot(x='month_publication',y='last_price',style='x-',legend=True)\n",
    ")\n",
    "(days_exposition_data\n",
    "     .groupby('month_publication')['last_price'].count()\n",
    "     .plot(x='month_publication',y='last_price',style='x-',legend=True)\n",
    ")\n",
    "\n",
    "plt.show()"
   ]
  },
  {
   "cell_type": "markdown",
   "metadata": {},
   "source": [
    "Квартиры в центре значительно меньше подвержены волатильности в течение года. Разница практически не чувситвуется."
   ]
  },
  {
   "cell_type": "code",
   "execution_count": null,
   "metadata": {},
   "outputs": [],
   "source": [
    "(spb_center\n",
    "     .groupby('year_publication')['last_price'].count()\n",
    "     .plot(x='year_publication',y='last_price',style='x-',legend=True)\n",
    ")\n",
    "(days_exposition_data\n",
    "     .groupby('year_publication')['last_price'].count()\n",
    "     .plot(x='year_publication',y='last_price',style='x-',legend=True)\n",
    ")\n",
    "\n",
    "plt.show()"
   ]
  },
  {
   "cell_type": "markdown",
   "metadata": {},
   "source": [
    "Во время резкого скачка 17 и 18 года, квартиры в центре не подверглись такому резкому повышению спроса. "
   ]
  },
  {
   "cell_type": "markdown",
   "metadata": {},
   "source": [
    "## Общий вывод"
   ]
  },
  {
   "cell_type": "markdown",
   "metadata": {},
   "source": [
    "Для определения рыночной стоимости объектов недвижимости важны следующие параметры:\n",
    "\n",
    "- общая площадь квартиры\n",
    "- расстояние до центра города (центр города огранчен окружностью радиусом 5 км)\n",
    "- число комнат и этаж квартиры (чем ближе к центру эти факторы усиливают своё значение)\n",
    "- срок продажи квартиры (слишком быстрая продажа — до 1 месяца, слишком долгая продажа — более 15 месяцев (460 дней)).\n",
    "- кроме того, необходимо ввести ограничения на ввод данных о высоте потолков, названии населённого пункта. Разобраться с коллегами, с чем связаны большие количества пропусков в остальных столбцах.\n",
    "\n",
    "Самые ликвидные квартиры продаются в будние дни, имеют 1-3 комнаты, находятся не на первом и не на последнем этаже, высота потолков 2.6, стоимость около 4.6 млн. руб. Цена зависит от района, высоты потолков, количества комнат."
   ]
  },
  {
   "cell_type": "markdown",
   "metadata": {},
   "source": [
    "## Чек-лист готовности проекта\n",
    "\n",
    "Поставьте 'x' в выполненных пунктах. Далее нажмите Shift+Enter."
   ]
  },
  {
   "cell_type": "markdown",
   "metadata": {},
   "source": [
    "- [x]  открыт файл\n",
    "- [x]  файлы изучены (выведены первые строки, метод info())\n",
    "- [x]  определены пропущенные значения\n",
    "- [x]  заполнены пропущенные значения\n",
    "- [x]  есть пояснение, какие пропущенные значения обнаружены\n",
    "- [x]  изменены типы данных\n",
    "- [x]  есть пояснение, в каких столбцах изменены типы и почему\n",
    "- [x]  посчитано и добавлено в таблицу: цена квадратного метра\n",
    "- [x]  посчитано и добавлено в таблицу: день недели, месяц и год публикации объявления\n",
    "- [x]  посчитано и добавлено в таблицу: этаж квартиры; варианты — первый, последний, другой\n",
    "- [x]  посчитано и добавлено в таблицу: соотношение жилой и общей площади, а также отношение площади кухни к общей\n",
    "- [x]  изучены следующие параметры: площадь, цена, число комнат, высота потолков\n",
    "- [x]  построены гистограммы для каждого параметра\n",
    "- [x]  выполнено задание: \"Изучите время продажи квартиры. Постройте гистограмму. Посчитайте среднее и медиану. Опишите, сколько обычно занимает продажа. Когда можно считать, что продажи прошли очень быстро, а когда необычно долго?\"\n",
    "- [x]  выполнено задание: \"Уберите редкие и выбивающиеся значения. Опишите, какие особенности обнаружили.\"\n",
    "- [x]  выполнено задание: \"Какие факторы больше всего влияют на стоимость квартиры? Изучите, зависит ли цена от квадратного метра, числа комнат, этажа (первого или последнего), удалённости от центра. Также изучите зависимость от даты размещения: дня недели, месяца и года. \"Выберите 10 населённых пунктов с наибольшим числом объявлений. Посчитайте среднюю цену квадратного метра в этих населённых пунктах. Выделите населённые пункты с самой высокой и низкой стоимостью жилья. Эти данные можно найти по имени в столбце '*locality_name'*. \"\n",
    "- [x]  выполнено задание: \"Изучите предложения квартир: для каждой квартиры есть информация о расстоянии до центра. Выделите квартиры в Санкт-Петербурге (*'locality_name'*). Ваша задача — выяснить, какая область входит в центр. Создайте столбец с расстоянием до центра в километрах: округлите до целых значений. После этого посчитайте среднюю цену для каждого километра. Постройте график: он должен показывать, как цена зависит от удалённости от центра. Определите границу, где график сильно меняется — это и будет центральная зона. \"\n",
    "- [x]  выполнено задание: \"Выделите сегмент квартир в центре. Проанализируйте эту территорию и изучите следующие параметры: площадь, цена, число комнат, высота потолков. Также выделите факторы, которые влияют на стоимость квартиры (число комнат, этаж, удалённость от центра, дата размещения объявления). Сделайте выводы. Отличаются ли они от общих выводов по всему городу?\"\n",
    "- [x]  в каждом этапе есть выводы\n",
    "- [x]  есть общий вывод"
   ]
  }
 ],
 "metadata": {
  "ExecuteTimeLog": [
   {
    "duration": 833,
    "start_time": "2021-11-17T21:03:13.133Z"
   },
   {
    "duration": 84,
    "start_time": "2021-11-17T21:24:40.145Z"
   },
   {
    "duration": 41,
    "start_time": "2021-11-17T21:28:55.496Z"
   },
   {
    "duration": 73,
    "start_time": "2021-11-17T21:35:17.294Z"
   },
   {
    "duration": 874,
    "start_time": "2021-11-18T18:05:43.197Z"
   },
   {
    "duration": 84,
    "start_time": "2021-11-18T18:05:48.697Z"
   },
   {
    "duration": 13,
    "start_time": "2021-11-18T18:05:50.632Z"
   },
   {
    "duration": 564,
    "start_time": "2021-11-18T18:05:51.421Z"
   },
   {
    "duration": 14,
    "start_time": "2021-11-18T18:06:44.812Z"
   },
   {
    "duration": 53,
    "start_time": "2021-11-18T18:47:45.803Z"
   },
   {
    "duration": 75,
    "start_time": "2021-11-18T18:47:57.055Z"
   },
   {
    "duration": 414,
    "start_time": "2021-11-18T18:52:18.198Z"
   },
   {
    "duration": 359,
    "start_time": "2021-11-18T18:52:49.489Z"
   },
   {
    "duration": 13,
    "start_time": "2021-11-18T18:56:38.571Z"
   },
   {
    "duration": 6,
    "start_time": "2021-11-18T18:58:16.522Z"
   },
   {
    "duration": 11,
    "start_time": "2021-11-18T19:18:03.337Z"
   },
   {
    "duration": 6,
    "start_time": "2021-11-18T19:28:10.510Z"
   },
   {
    "duration": 312,
    "start_time": "2021-11-18T19:28:11.044Z"
   },
   {
    "duration": 12,
    "start_time": "2021-11-18T19:28:11.937Z"
   },
   {
    "duration": 6,
    "start_time": "2021-11-18T19:28:12.780Z"
   },
   {
    "duration": 8,
    "start_time": "2021-11-18T19:28:20.361Z"
   },
   {
    "duration": 8,
    "start_time": "2021-11-18T19:28:20.959Z"
   },
   {
    "duration": 8,
    "start_time": "2021-11-18T19:28:21.719Z"
   },
   {
    "duration": 11,
    "start_time": "2021-11-18T19:29:44.082Z"
   },
   {
    "duration": 43,
    "start_time": "2021-11-18T20:10:48.313Z"
   },
   {
    "duration": 17,
    "start_time": "2021-11-18T20:13:35.698Z"
   },
   {
    "duration": 394,
    "start_time": "2021-11-19T14:16:49.121Z"
   },
   {
    "duration": 816,
    "start_time": "2021-11-19T14:16:59.230Z"
   },
   {
    "duration": 81,
    "start_time": "2021-11-19T14:17:04.160Z"
   },
   {
    "duration": 11,
    "start_time": "2021-11-19T14:17:05.615Z"
   },
   {
    "duration": 399,
    "start_time": "2021-11-19T14:17:06.245Z"
   },
   {
    "duration": 12,
    "start_time": "2021-11-19T14:17:08.846Z"
   },
   {
    "duration": 7,
    "start_time": "2021-11-19T14:17:09.877Z"
   },
   {
    "duration": 9,
    "start_time": "2021-11-19T14:17:11.028Z"
   },
   {
    "duration": 8,
    "start_time": "2021-11-19T14:17:12.945Z"
   },
   {
    "duration": 8,
    "start_time": "2021-11-19T14:17:13.633Z"
   },
   {
    "duration": 11,
    "start_time": "2021-11-19T14:17:14.211Z"
   },
   {
    "duration": 12,
    "start_time": "2021-11-19T14:17:16.274Z"
   },
   {
    "duration": 17,
    "start_time": "2021-11-19T14:17:16.876Z"
   },
   {
    "duration": 831,
    "start_time": "2021-11-19T14:17:17.757Z"
   },
   {
    "duration": 10,
    "start_time": "2021-11-19T14:20:51.188Z"
   },
   {
    "duration": 706,
    "start_time": "2021-11-19T14:23:13.776Z"
   },
   {
    "duration": 652,
    "start_time": "2021-11-19T14:23:22.396Z"
   },
   {
    "duration": 988,
    "start_time": "2021-11-19T14:23:32.738Z"
   },
   {
    "duration": 787,
    "start_time": "2021-11-19T14:23:49.478Z"
   },
   {
    "duration": 1119,
    "start_time": "2021-11-19T14:23:58.414Z"
   },
   {
    "duration": 862,
    "start_time": "2021-11-19T14:24:14.256Z"
   },
   {
    "duration": 788,
    "start_time": "2021-11-19T14:24:22.568Z"
   },
   {
    "duration": 748,
    "start_time": "2021-11-19T14:25:15.544Z"
   },
   {
    "duration": 737,
    "start_time": "2021-11-19T14:26:59.216Z"
   },
   {
    "duration": 586,
    "start_time": "2021-11-19T14:27:14.110Z"
   },
   {
    "duration": 753,
    "start_time": "2021-11-19T14:27:19.964Z"
   },
   {
    "duration": 832,
    "start_time": "2021-11-19T14:28:57.118Z"
   },
   {
    "duration": 753,
    "start_time": "2021-11-19T14:29:09.076Z"
   },
   {
    "duration": 731,
    "start_time": "2021-11-19T14:29:14.134Z"
   },
   {
    "duration": 738,
    "start_time": "2021-11-19T14:29:19.124Z"
   },
   {
    "duration": 726,
    "start_time": "2021-11-19T14:29:24.663Z"
   },
   {
    "duration": 759,
    "start_time": "2021-11-19T14:29:52.690Z"
   },
   {
    "duration": 854,
    "start_time": "2021-11-19T14:30:06.994Z"
   },
   {
    "duration": 800,
    "start_time": "2021-11-19T14:30:16.896Z"
   },
   {
    "duration": 1159,
    "start_time": "2021-11-19T14:30:28.510Z"
   },
   {
    "duration": 725,
    "start_time": "2021-11-19T14:30:41.346Z"
   },
   {
    "duration": 1229,
    "start_time": "2021-11-19T14:32:33.989Z"
   },
   {
    "duration": 620,
    "start_time": "2021-11-19T14:32:41.111Z"
   },
   {
    "duration": 927,
    "start_time": "2021-11-19T14:32:45.566Z"
   },
   {
    "duration": 450,
    "start_time": "2021-11-19T14:32:51.491Z"
   },
   {
    "duration": 635,
    "start_time": "2021-11-19T14:33:02.387Z"
   },
   {
    "duration": 454,
    "start_time": "2021-11-19T14:33:09.992Z"
   },
   {
    "duration": 445,
    "start_time": "2021-11-19T14:33:18.691Z"
   },
   {
    "duration": 430,
    "start_time": "2021-11-19T14:33:23.810Z"
   },
   {
    "duration": 537,
    "start_time": "2021-11-19T14:33:30.457Z"
   },
   {
    "duration": 436,
    "start_time": "2021-11-19T14:33:35.195Z"
   },
   {
    "duration": 444,
    "start_time": "2021-11-19T14:33:42.169Z"
   },
   {
    "duration": 449,
    "start_time": "2021-11-19T14:33:52.896Z"
   },
   {
    "duration": 591,
    "start_time": "2021-11-19T14:34:01.850Z"
   },
   {
    "duration": 520,
    "start_time": "2021-11-19T14:34:08.931Z"
   },
   {
    "duration": 503,
    "start_time": "2021-11-19T14:34:12.697Z"
   },
   {
    "duration": 458,
    "start_time": "2021-11-19T14:34:17.216Z"
   },
   {
    "duration": 416,
    "start_time": "2021-11-19T14:34:22.258Z"
   },
   {
    "duration": 418,
    "start_time": "2021-11-19T14:35:47.860Z"
   },
   {
    "duration": 635,
    "start_time": "2021-11-19T14:36:02.470Z"
   },
   {
    "duration": 839,
    "start_time": "2021-11-19T14:36:13.398Z"
   },
   {
    "duration": 425,
    "start_time": "2021-11-19T14:36:26.082Z"
   },
   {
    "duration": 501,
    "start_time": "2021-11-19T14:36:46.966Z"
   },
   {
    "duration": 475,
    "start_time": "2021-11-19T14:37:06.512Z"
   },
   {
    "duration": 466,
    "start_time": "2021-11-19T14:37:11.421Z"
   },
   {
    "duration": 836,
    "start_time": "2021-11-19T14:37:18.399Z"
   },
   {
    "duration": 649,
    "start_time": "2021-11-19T14:37:23.966Z"
   },
   {
    "duration": 478,
    "start_time": "2021-11-19T14:37:38.532Z"
   },
   {
    "duration": 486,
    "start_time": "2021-11-19T14:37:52.076Z"
   },
   {
    "duration": 694,
    "start_time": "2021-11-19T14:39:10.414Z"
   },
   {
    "duration": 16,
    "start_time": "2021-11-19T14:52:04.748Z"
   },
   {
    "duration": 12,
    "start_time": "2021-11-19T14:52:20.751Z"
   },
   {
    "duration": 120,
    "start_time": "2021-11-19T14:52:52.607Z"
   },
   {
    "duration": 14,
    "start_time": "2021-11-19T14:53:02.059Z"
   },
   {
    "duration": 368,
    "start_time": "2021-11-19T14:54:03.589Z"
   },
   {
    "duration": 350,
    "start_time": "2021-11-19T14:54:15.174Z"
   },
   {
    "duration": 418,
    "start_time": "2021-11-19T14:55:09.944Z"
   },
   {
    "duration": 721,
    "start_time": "2021-11-19T14:55:22.316Z"
   },
   {
    "duration": 754,
    "start_time": "2021-11-19T14:55:29.550Z"
   },
   {
    "duration": 939,
    "start_time": "2021-11-19T14:55:50.654Z"
   },
   {
    "duration": 1312,
    "start_time": "2021-11-19T14:56:10.777Z"
   },
   {
    "duration": 958,
    "start_time": "2021-11-19T14:56:23.037Z"
   },
   {
    "duration": 943,
    "start_time": "2021-11-19T14:57:02.668Z"
   },
   {
    "duration": 953,
    "start_time": "2021-11-19T14:57:11.817Z"
   },
   {
    "duration": 14,
    "start_time": "2021-11-19T14:57:23.158Z"
   },
   {
    "duration": 135,
    "start_time": "2021-11-19T14:57:43.410Z"
   },
   {
    "duration": 116,
    "start_time": "2021-11-19T14:57:43.548Z"
   },
   {
    "duration": 29,
    "start_time": "2021-11-19T14:57:43.668Z"
   },
   {
    "duration": 508,
    "start_time": "2021-11-19T14:57:43.701Z"
   },
   {
    "duration": 16,
    "start_time": "2021-11-19T14:57:44.213Z"
   },
   {
    "duration": 7,
    "start_time": "2021-11-19T14:57:44.231Z"
   },
   {
    "duration": 10,
    "start_time": "2021-11-19T14:57:44.241Z"
   },
   {
    "duration": 12,
    "start_time": "2021-11-19T14:57:44.287Z"
   },
   {
    "duration": 7,
    "start_time": "2021-11-19T14:57:44.302Z"
   },
   {
    "duration": 12,
    "start_time": "2021-11-19T14:57:44.313Z"
   },
   {
    "duration": 9,
    "start_time": "2021-11-19T14:57:44.328Z"
   },
   {
    "duration": 66,
    "start_time": "2021-11-19T14:57:44.339Z"
   },
   {
    "duration": 1214,
    "start_time": "2021-11-19T14:57:44.408Z"
   },
   {
    "duration": 8,
    "start_time": "2021-11-19T14:57:45.625Z"
   },
   {
    "duration": 1193,
    "start_time": "2021-11-19T14:57:45.636Z"
   },
   {
    "duration": 16,
    "start_time": "2021-11-19T14:57:46.832Z"
   },
   {
    "duration": 781,
    "start_time": "2021-11-19T14:57:46.851Z"
   },
   {
    "duration": 13,
    "start_time": "2021-11-19T14:58:27.157Z"
   },
   {
    "duration": 734,
    "start_time": "2021-11-19T14:58:54.225Z"
   },
   {
    "duration": 20,
    "start_time": "2021-11-19T15:00:16.885Z"
   },
   {
    "duration": 13,
    "start_time": "2021-11-19T15:00:44.317Z"
   },
   {
    "duration": 162,
    "start_time": "2021-11-19T15:18:46.797Z"
   },
   {
    "duration": 17,
    "start_time": "2021-11-19T17:08:30.305Z"
   },
   {
    "duration": 634,
    "start_time": "2021-11-19T17:10:28.763Z"
   },
   {
    "duration": 871,
    "start_time": "2021-11-19T17:10:39.859Z"
   },
   {
    "duration": 624,
    "start_time": "2021-11-19T17:16:45.496Z"
   },
   {
    "duration": 113,
    "start_time": "2021-11-20T09:57:25.988Z"
   },
   {
    "duration": 90,
    "start_time": "2021-11-20T09:57:26.103Z"
   },
   {
    "duration": 12,
    "start_time": "2021-11-20T09:57:26.196Z"
   },
   {
    "duration": 322,
    "start_time": "2021-11-20T09:57:26.210Z"
   },
   {
    "duration": 11,
    "start_time": "2021-11-20T09:57:26.535Z"
   },
   {
    "duration": 6,
    "start_time": "2021-11-20T09:57:26.549Z"
   },
   {
    "duration": 28,
    "start_time": "2021-11-20T09:57:26.557Z"
   },
   {
    "duration": 7,
    "start_time": "2021-11-20T09:57:26.589Z"
   },
   {
    "duration": 7,
    "start_time": "2021-11-20T09:57:26.599Z"
   },
   {
    "duration": 14,
    "start_time": "2021-11-20T09:57:26.609Z"
   },
   {
    "duration": 6,
    "start_time": "2021-11-20T09:57:26.626Z"
   },
   {
    "duration": 19,
    "start_time": "2021-11-20T09:57:26.683Z"
   },
   {
    "duration": 1409,
    "start_time": "2021-11-20T09:57:26.705Z"
   },
   {
    "duration": 10,
    "start_time": "2021-11-20T09:57:28.117Z"
   },
   {
    "duration": 668,
    "start_time": "2021-11-20T09:57:28.130Z"
   },
   {
    "duration": 14,
    "start_time": "2021-11-20T09:57:28.802Z"
   },
   {
    "duration": 5,
    "start_time": "2021-11-20T09:57:28.819Z"
   },
   {
    "duration": 711,
    "start_time": "2021-11-20T09:57:28.826Z"
   },
   {
    "duration": 12,
    "start_time": "2021-11-20T09:57:29.539Z"
   },
   {
    "duration": 415,
    "start_time": "2021-11-20T09:57:29.553Z"
   },
   {
    "duration": 22,
    "start_time": "2021-11-20T09:57:29.970Z"
   },
   {
    "duration": 569,
    "start_time": "2021-11-20T09:57:29.997Z"
   },
   {
    "duration": 20,
    "start_time": "2021-11-20T09:57:30.570Z"
   },
   {
    "duration": 34,
    "start_time": "2021-11-20T09:57:30.593Z"
   },
   {
    "duration": 623,
    "start_time": "2021-11-20T09:57:30.629Z"
   },
   {
    "duration": 52,
    "start_time": "2021-11-20T09:57:44.310Z"
   },
   {
    "duration": 7,
    "start_time": "2021-11-20T10:42:30.814Z"
   },
   {
    "duration": 309,
    "start_time": "2021-11-20T10:42:31.281Z"
   },
   {
    "duration": 13,
    "start_time": "2021-11-20T10:42:33.463Z"
   },
   {
    "duration": 6,
    "start_time": "2021-11-20T10:42:34.295Z"
   },
   {
    "duration": 6,
    "start_time": "2021-11-20T10:42:35.678Z"
   },
   {
    "duration": 20,
    "start_time": "2021-11-20T10:42:45.954Z"
   },
   {
    "duration": 7,
    "start_time": "2021-11-20T10:43:31.679Z"
   },
   {
    "duration": 14,
    "start_time": "2021-11-20T10:52:15.710Z"
   },
   {
    "duration": 1200,
    "start_time": "2021-11-20T10:53:25.862Z"
   },
   {
    "duration": 15,
    "start_time": "2021-11-20T10:53:34.934Z"
   },
   {
    "duration": 8,
    "start_time": "2021-11-20T11:00:06.923Z"
   },
   {
    "duration": 96,
    "start_time": "2021-11-20T11:03:35.762Z"
   },
   {
    "duration": 96,
    "start_time": "2021-11-20T11:03:35.861Z"
   },
   {
    "duration": 24,
    "start_time": "2021-11-20T11:03:35.960Z"
   },
   {
    "duration": 317,
    "start_time": "2021-11-20T11:03:35.987Z"
   },
   {
    "duration": 12,
    "start_time": "2021-11-20T11:03:36.307Z"
   },
   {
    "duration": 7,
    "start_time": "2021-11-20T11:03:36.322Z"
   },
   {
    "duration": 9,
    "start_time": "2021-11-20T11:03:36.331Z"
   },
   {
    "duration": 42,
    "start_time": "2021-11-20T11:03:36.345Z"
   },
   {
    "duration": 23,
    "start_time": "2021-11-20T11:03:36.390Z"
   },
   {
    "duration": 6,
    "start_time": "2021-11-20T11:03:36.416Z"
   },
   {
    "duration": 9,
    "start_time": "2021-11-20T11:03:36.424Z"
   },
   {
    "duration": 10,
    "start_time": "2021-11-20T11:03:36.436Z"
   },
   {
    "duration": 13,
    "start_time": "2021-11-20T11:03:36.483Z"
   },
   {
    "duration": 17,
    "start_time": "2021-11-20T11:03:36.499Z"
   },
   {
    "duration": 15,
    "start_time": "2021-11-20T11:03:36.519Z"
   },
   {
    "duration": 50,
    "start_time": "2021-11-20T11:03:36.537Z"
   },
   {
    "duration": 19,
    "start_time": "2021-11-20T11:03:51.804Z"
   },
   {
    "duration": 10,
    "start_time": "2021-11-20T11:12:11.292Z"
   },
   {
    "duration": 1010,
    "start_time": "2021-11-20T11:14:07.651Z"
   },
   {
    "duration": 109,
    "start_time": "2021-11-20T11:14:08.664Z"
   },
   {
    "duration": 17,
    "start_time": "2021-11-20T11:14:08.775Z"
   },
   {
    "duration": 441,
    "start_time": "2021-11-20T11:14:08.794Z"
   },
   {
    "duration": 12,
    "start_time": "2021-11-20T11:14:09.237Z"
   },
   {
    "duration": 6,
    "start_time": "2021-11-20T11:14:09.251Z"
   },
   {
    "duration": 28,
    "start_time": "2021-11-20T11:14:09.259Z"
   },
   {
    "duration": 10,
    "start_time": "2021-11-20T11:14:09.290Z"
   },
   {
    "duration": 19,
    "start_time": "2021-11-20T11:14:09.303Z"
   },
   {
    "duration": 7,
    "start_time": "2021-11-20T11:14:09.324Z"
   },
   {
    "duration": 52,
    "start_time": "2021-11-20T11:14:09.333Z"
   },
   {
    "duration": 6,
    "start_time": "2021-11-20T11:14:09.388Z"
   },
   {
    "duration": 13,
    "start_time": "2021-11-20T11:14:09.397Z"
   },
   {
    "duration": 16,
    "start_time": "2021-11-20T11:14:09.412Z"
   },
   {
    "duration": 55,
    "start_time": "2021-11-20T11:14:09.430Z"
   },
   {
    "duration": 10,
    "start_time": "2021-11-20T11:14:09.488Z"
   },
   {
    "duration": 10,
    "start_time": "2021-11-20T11:14:12.637Z"
   },
   {
    "duration": 11,
    "start_time": "2021-11-20T11:14:14.134Z"
   },
   {
    "duration": 12,
    "start_time": "2021-11-20T11:14:15.696Z"
   },
   {
    "duration": 12,
    "start_time": "2021-11-20T11:24:38.460Z"
   },
   {
    "duration": 6,
    "start_time": "2021-11-20T11:25:20.396Z"
   },
   {
    "duration": 475,
    "start_time": "2021-11-20T11:26:12.005Z"
   },
   {
    "duration": 14,
    "start_time": "2021-11-20T11:26:18.635Z"
   },
   {
    "duration": 128,
    "start_time": "2021-11-20T11:27:40.736Z"
   },
   {
    "duration": 17,
    "start_time": "2021-11-20T11:29:49.719Z"
   },
   {
    "duration": 816,
    "start_time": "2021-11-20T11:29:50.548Z"
   },
   {
    "duration": 7,
    "start_time": "2021-11-20T11:29:59.970Z"
   },
   {
    "duration": 36,
    "start_time": "2021-11-20T11:30:10.570Z"
   },
   {
    "duration": 5,
    "start_time": "2021-11-20T11:31:32.432Z"
   },
   {
    "duration": 5,
    "start_time": "2021-11-20T11:31:48.542Z"
   },
   {
    "duration": 1058,
    "start_time": "2021-11-20T11:31:50.361Z"
   },
   {
    "duration": 17,
    "start_time": "2021-11-20T11:31:57.515Z"
   },
   {
    "duration": 1048,
    "start_time": "2021-11-20T11:32:19.842Z"
   },
   {
    "duration": 11,
    "start_time": "2021-11-20T11:32:22.370Z"
   },
   {
    "duration": 5,
    "start_time": "2021-11-20T11:32:55.936Z"
   },
   {
    "duration": 663,
    "start_time": "2021-11-20T11:32:57.000Z"
   },
   {
    "duration": 887,
    "start_time": "2021-11-20T11:33:30.169Z"
   },
   {
    "duration": 84,
    "start_time": "2021-11-20T11:33:31.059Z"
   },
   {
    "duration": 14,
    "start_time": "2021-11-20T11:33:31.148Z"
   },
   {
    "duration": 451,
    "start_time": "2021-11-20T11:33:31.165Z"
   },
   {
    "duration": 14,
    "start_time": "2021-11-20T11:33:31.618Z"
   },
   {
    "duration": 11,
    "start_time": "2021-11-20T11:33:31.635Z"
   },
   {
    "duration": 34,
    "start_time": "2021-11-20T11:33:31.649Z"
   },
   {
    "duration": 8,
    "start_time": "2021-11-20T11:33:31.688Z"
   },
   {
    "duration": 28,
    "start_time": "2021-11-20T11:33:31.699Z"
   },
   {
    "duration": 9,
    "start_time": "2021-11-20T11:33:31.730Z"
   },
   {
    "duration": 40,
    "start_time": "2021-11-20T11:33:31.742Z"
   },
   {
    "duration": 5,
    "start_time": "2021-11-20T11:33:31.785Z"
   },
   {
    "duration": 15,
    "start_time": "2021-11-20T11:33:31.792Z"
   },
   {
    "duration": 20,
    "start_time": "2021-11-20T11:33:31.810Z"
   },
   {
    "duration": 54,
    "start_time": "2021-11-20T11:33:31.832Z"
   },
   {
    "duration": 10,
    "start_time": "2021-11-20T11:33:31.889Z"
   },
   {
    "duration": 18,
    "start_time": "2021-11-20T11:33:31.901Z"
   },
   {
    "duration": 18,
    "start_time": "2021-11-20T11:33:31.922Z"
   },
   {
    "duration": 48,
    "start_time": "2021-11-20T11:33:31.942Z"
   },
   {
    "duration": 6,
    "start_time": "2021-11-20T11:33:31.994Z"
   },
   {
    "duration": 17,
    "start_time": "2021-11-20T11:33:32.003Z"
   },
   {
    "duration": 23,
    "start_time": "2021-11-20T11:33:32.023Z"
   },
   {
    "duration": 965,
    "start_time": "2021-11-20T11:33:32.050Z"
   },
   {
    "duration": 6,
    "start_time": "2021-11-20T11:33:33.018Z"
   },
   {
    "duration": 39,
    "start_time": "2021-11-20T11:33:33.026Z"
   },
   {
    "duration": 4,
    "start_time": "2021-11-20T11:33:33.082Z"
   },
   {
    "duration": 654,
    "start_time": "2021-11-20T11:33:33.089Z"
   },
   {
    "duration": 13,
    "start_time": "2021-11-20T11:33:33.746Z"
   },
   {
    "duration": 23,
    "start_time": "2021-11-20T11:33:33.762Z"
   },
   {
    "duration": 5,
    "start_time": "2021-11-20T11:33:38.024Z"
   },
   {
    "duration": 1037,
    "start_time": "2021-11-20T11:33:39.713Z"
   },
   {
    "duration": 154,
    "start_time": "2021-11-20T11:34:21.961Z"
   },
   {
    "duration": 119,
    "start_time": "2021-11-20T11:34:22.118Z"
   },
   {
    "duration": 13,
    "start_time": "2021-11-20T11:34:22.241Z"
   },
   {
    "duration": 330,
    "start_time": "2021-11-20T11:34:22.257Z"
   },
   {
    "duration": 15,
    "start_time": "2021-11-20T11:34:22.590Z"
   },
   {
    "duration": 7,
    "start_time": "2021-11-20T11:34:22.608Z"
   },
   {
    "duration": 8,
    "start_time": "2021-11-20T11:34:22.618Z"
   },
   {
    "duration": 50,
    "start_time": "2021-11-20T11:34:22.632Z"
   },
   {
    "duration": 19,
    "start_time": "2021-11-20T11:34:22.685Z"
   },
   {
    "duration": 6,
    "start_time": "2021-11-20T11:34:22.706Z"
   },
   {
    "duration": 11,
    "start_time": "2021-11-20T11:34:22.714Z"
   },
   {
    "duration": 9,
    "start_time": "2021-11-20T11:34:22.728Z"
   },
   {
    "duration": 55,
    "start_time": "2021-11-20T11:34:22.740Z"
   },
   {
    "duration": 15,
    "start_time": "2021-11-20T11:34:22.797Z"
   },
   {
    "duration": 12,
    "start_time": "2021-11-20T11:34:22.814Z"
   },
   {
    "duration": 9,
    "start_time": "2021-11-20T11:34:22.829Z"
   },
   {
    "duration": 46,
    "start_time": "2021-11-20T11:34:22.841Z"
   },
   {
    "duration": 15,
    "start_time": "2021-11-20T11:34:22.889Z"
   },
   {
    "duration": 34,
    "start_time": "2021-11-20T11:34:22.906Z"
   },
   {
    "duration": 6,
    "start_time": "2021-11-20T11:34:22.943Z"
   },
   {
    "duration": 49,
    "start_time": "2021-11-20T11:34:22.952Z"
   },
   {
    "duration": 22,
    "start_time": "2021-11-20T11:34:23.005Z"
   },
   {
    "duration": 1158,
    "start_time": "2021-11-20T11:34:23.033Z"
   },
   {
    "duration": 8,
    "start_time": "2021-11-20T11:34:24.194Z"
   },
   {
    "duration": 38,
    "start_time": "2021-11-20T11:34:24.205Z"
   },
   {
    "duration": 4,
    "start_time": "2021-11-20T11:34:24.245Z"
   },
   {
    "duration": 687,
    "start_time": "2021-11-20T11:34:24.252Z"
   },
   {
    "duration": 12,
    "start_time": "2021-11-20T11:34:24.942Z"
   },
   {
    "duration": 25,
    "start_time": "2021-11-20T11:34:24.957Z"
   },
   {
    "duration": 7,
    "start_time": "2021-11-20T11:34:29.535Z"
   },
   {
    "duration": 813,
    "start_time": "2021-11-20T11:34:30.540Z"
   },
   {
    "duration": 1092,
    "start_time": "2021-11-20T11:34:55.629Z"
   },
   {
    "duration": 132,
    "start_time": "2021-11-20T11:34:56.724Z"
   },
   {
    "duration": 29,
    "start_time": "2021-11-20T11:34:56.860Z"
   },
   {
    "duration": 427,
    "start_time": "2021-11-20T11:34:56.892Z"
   },
   {
    "duration": 16,
    "start_time": "2021-11-20T11:34:57.322Z"
   },
   {
    "duration": 7,
    "start_time": "2021-11-20T11:34:57.341Z"
   },
   {
    "duration": 34,
    "start_time": "2021-11-20T11:34:57.350Z"
   },
   {
    "duration": 8,
    "start_time": "2021-11-20T11:34:57.388Z"
   },
   {
    "duration": 19,
    "start_time": "2021-11-20T11:34:57.399Z"
   },
   {
    "duration": 10,
    "start_time": "2021-11-20T11:34:57.420Z"
   },
   {
    "duration": 7,
    "start_time": "2021-11-20T11:34:57.432Z"
   },
   {
    "duration": 44,
    "start_time": "2021-11-20T11:34:57.441Z"
   },
   {
    "duration": 13,
    "start_time": "2021-11-20T11:34:57.487Z"
   },
   {
    "duration": 23,
    "start_time": "2021-11-20T11:34:57.502Z"
   },
   {
    "duration": 56,
    "start_time": "2021-11-20T11:34:57.528Z"
   },
   {
    "duration": 11,
    "start_time": "2021-11-20T11:34:57.586Z"
   },
   {
    "duration": 11,
    "start_time": "2021-11-20T11:34:57.599Z"
   },
   {
    "duration": 13,
    "start_time": "2021-11-20T11:34:57.613Z"
   },
   {
    "duration": 59,
    "start_time": "2021-11-20T11:34:57.629Z"
   },
   {
    "duration": 7,
    "start_time": "2021-11-20T11:34:57.691Z"
   },
   {
    "duration": 18,
    "start_time": "2021-11-20T11:34:57.701Z"
   },
   {
    "duration": 22,
    "start_time": "2021-11-20T11:34:57.722Z"
   },
   {
    "duration": 837,
    "start_time": "2021-11-20T11:34:57.786Z"
   },
   {
    "duration": 8,
    "start_time": "2021-11-20T11:34:58.625Z"
   },
   {
    "duration": 48,
    "start_time": "2021-11-20T11:34:58.635Z"
   },
   {
    "duration": 3,
    "start_time": "2021-11-20T11:34:58.686Z"
   },
   {
    "duration": 665,
    "start_time": "2021-11-20T11:34:58.692Z"
   },
   {
    "duration": 28,
    "start_time": "2021-11-20T11:34:59.359Z"
   },
   {
    "duration": 14,
    "start_time": "2021-11-20T11:35:03.148Z"
   },
   {
    "duration": 7,
    "start_time": "2021-11-20T11:35:05.192Z"
   },
   {
    "duration": 669,
    "start_time": "2021-11-20T11:35:08.637Z"
   },
   {
    "duration": 14,
    "start_time": "2021-11-20T11:35:13.702Z"
   },
   {
    "duration": 393,
    "start_time": "2021-11-20T11:35:31.206Z"
   },
   {
    "duration": 652,
    "start_time": "2021-11-20T11:35:50.530Z"
   },
   {
    "duration": 15,
    "start_time": "2021-11-20T11:36:21.528Z"
   },
   {
    "duration": 653,
    "start_time": "2021-11-20T11:36:22.722Z"
   },
   {
    "duration": 12,
    "start_time": "2021-11-20T11:36:25.037Z"
   },
   {
    "duration": 497,
    "start_time": "2021-11-20T11:36:34.105Z"
   },
   {
    "duration": 570,
    "start_time": "2021-11-20T11:36:43.134Z"
   },
   {
    "duration": 514,
    "start_time": "2021-11-20T11:36:53.034Z"
   },
   {
    "duration": 20,
    "start_time": "2021-11-20T11:41:11.549Z"
   },
   {
    "duration": 1017,
    "start_time": "2021-11-20T11:41:14.400Z"
   },
   {
    "duration": 217,
    "start_time": "2021-11-20T11:41:28.067Z"
   },
   {
    "duration": 220,
    "start_time": "2021-11-20T11:41:33.736Z"
   },
   {
    "duration": 224,
    "start_time": "2021-11-20T11:41:38.743Z"
   },
   {
    "duration": 87,
    "start_time": "2021-11-20T13:04:03.815Z"
   },
   {
    "duration": 808,
    "start_time": "2021-11-20T13:06:26.659Z"
   },
   {
    "duration": 904,
    "start_time": "2021-11-20T13:06:36.461Z"
   },
   {
    "duration": 754,
    "start_time": "2021-11-20T13:07:43.972Z"
   },
   {
    "duration": 417,
    "start_time": "2021-11-20T13:11:16.855Z"
   },
   {
    "duration": 293,
    "start_time": "2021-11-20T13:11:33.436Z"
   },
   {
    "duration": 216,
    "start_time": "2021-11-20T13:11:39.453Z"
   },
   {
    "duration": 435,
    "start_time": "2021-11-20T13:19:51.979Z"
   },
   {
    "duration": 317,
    "start_time": "2021-11-20T13:20:04.107Z"
   },
   {
    "duration": 312,
    "start_time": "2021-11-20T13:20:47.098Z"
   },
   {
    "duration": 408,
    "start_time": "2021-11-20T13:21:30.327Z"
   },
   {
    "duration": 4,
    "start_time": "2021-11-20T13:21:43.970Z"
   },
   {
    "duration": 3,
    "start_time": "2021-11-20T13:21:52.960Z"
   },
   {
    "duration": 304,
    "start_time": "2021-11-20T13:22:00.200Z"
   },
   {
    "duration": 1319,
    "start_time": "2021-11-20T13:22:35.443Z"
   },
   {
    "duration": 111,
    "start_time": "2021-11-20T13:22:36.766Z"
   },
   {
    "duration": 12,
    "start_time": "2021-11-20T13:22:36.883Z"
   },
   {
    "duration": 434,
    "start_time": "2021-11-20T13:22:36.898Z"
   },
   {
    "duration": 13,
    "start_time": "2021-11-20T13:22:37.336Z"
   },
   {
    "duration": 6,
    "start_time": "2021-11-20T13:22:37.351Z"
   },
   {
    "duration": 7,
    "start_time": "2021-11-20T13:22:37.382Z"
   },
   {
    "duration": 10,
    "start_time": "2021-11-20T13:22:37.393Z"
   },
   {
    "duration": 20,
    "start_time": "2021-11-20T13:22:37.406Z"
   },
   {
    "duration": 8,
    "start_time": "2021-11-20T13:22:37.429Z"
   },
   {
    "duration": 10,
    "start_time": "2021-11-20T13:22:37.483Z"
   },
   {
    "duration": 8,
    "start_time": "2021-11-20T13:22:37.496Z"
   },
   {
    "duration": 16,
    "start_time": "2021-11-20T13:22:37.506Z"
   },
   {
    "duration": 18,
    "start_time": "2021-11-20T13:22:37.526Z"
   },
   {
    "duration": 16,
    "start_time": "2021-11-20T13:22:37.583Z"
   },
   {
    "duration": 10,
    "start_time": "2021-11-20T13:22:37.603Z"
   },
   {
    "duration": 17,
    "start_time": "2021-11-20T13:22:37.616Z"
   },
   {
    "duration": 47,
    "start_time": "2021-11-20T13:22:37.636Z"
   },
   {
    "duration": 18,
    "start_time": "2021-11-20T13:22:37.685Z"
   },
   {
    "duration": 7,
    "start_time": "2021-11-20T13:22:37.706Z"
   },
   {
    "duration": 24,
    "start_time": "2021-11-20T13:22:37.715Z"
   },
   {
    "duration": 46,
    "start_time": "2021-11-20T13:22:37.741Z"
   },
   {
    "duration": 1063,
    "start_time": "2021-11-20T13:22:37.791Z"
   },
   {
    "duration": 7,
    "start_time": "2021-11-20T13:22:38.857Z"
   },
   {
    "duration": 35,
    "start_time": "2021-11-20T13:22:38.883Z"
   },
   {
    "duration": 3,
    "start_time": "2021-11-20T13:22:38.921Z"
   },
   {
    "duration": 741,
    "start_time": "2021-11-20T13:22:38.927Z"
   },
   {
    "duration": 20,
    "start_time": "2021-11-20T13:22:39.672Z"
   },
   {
    "duration": 9,
    "start_time": "2021-11-20T13:22:39.695Z"
   },
   {
    "duration": 710,
    "start_time": "2021-11-20T13:22:39.707Z"
   },
   {
    "duration": 14,
    "start_time": "2021-11-20T13:22:40.420Z"
   },
   {
    "duration": 484,
    "start_time": "2021-11-20T13:22:40.436Z"
   },
   {
    "duration": 12,
    "start_time": "2021-11-20T13:22:40.923Z"
   },
   {
    "duration": 554,
    "start_time": "2021-11-20T13:22:40.937Z"
   },
   {
    "duration": 17,
    "start_time": "2021-11-20T13:22:41.495Z"
   },
   {
    "duration": 33,
    "start_time": "2021-11-20T13:22:41.515Z"
   },
   {
    "duration": 806,
    "start_time": "2021-11-20T13:22:41.550Z"
   },
   {
    "duration": 255,
    "start_time": "2021-11-20T13:22:42.359Z"
   },
   {
    "duration": 87,
    "start_time": "2021-11-20T13:22:42.618Z"
   },
   {
    "duration": 674,
    "start_time": "2021-11-20T13:22:42.708Z"
   },
   {
    "duration": 233,
    "start_time": "2021-11-20T13:22:43.384Z"
   },
   {
    "duration": 52,
    "start_time": "2021-11-20T13:22:47.447Z"
   },
   {
    "duration": 13,
    "start_time": "2021-11-20T13:23:07.529Z"
   },
   {
    "duration": 749,
    "start_time": "2021-11-20T13:23:17.252Z"
   },
   {
    "duration": 891,
    "start_time": "2021-11-20T13:23:37.140Z"
   },
   {
    "duration": 300,
    "start_time": "2021-11-20T14:31:34.671Z"
   },
   {
    "duration": 227,
    "start_time": "2021-11-20T14:31:40.960Z"
   },
   {
    "duration": 332,
    "start_time": "2021-11-20T14:31:44.861Z"
   },
   {
    "duration": 205,
    "start_time": "2021-11-20T14:31:48.846Z"
   },
   {
    "duration": 284,
    "start_time": "2021-11-20T14:31:53.758Z"
   },
   {
    "duration": 204,
    "start_time": "2021-11-20T14:32:24.349Z"
   },
   {
    "duration": 736,
    "start_time": "2021-11-20T14:33:01.900Z"
   },
   {
    "duration": 200,
    "start_time": "2021-11-20T14:33:55.861Z"
   },
   {
    "duration": 1453,
    "start_time": "2021-11-20T14:36:56.193Z"
   },
   {
    "duration": 416,
    "start_time": "2021-11-20T14:37:56.261Z"
   },
   {
    "duration": 1458,
    "start_time": "2021-11-20T14:38:02.948Z"
   },
   {
    "duration": 1366,
    "start_time": "2021-11-20T14:38:11.271Z"
   },
   {
    "duration": 1517,
    "start_time": "2021-11-20T14:42:31.538Z"
   },
   {
    "duration": 1485,
    "start_time": "2021-11-20T14:43:37.107Z"
   },
   {
    "duration": 1191,
    "start_time": "2021-11-20T14:44:00.089Z"
   },
   {
    "duration": 1614,
    "start_time": "2021-11-20T14:44:19.101Z"
   },
   {
    "duration": 1298,
    "start_time": "2021-11-20T14:44:27.871Z"
   },
   {
    "duration": 1283,
    "start_time": "2021-11-20T14:45:08.508Z"
   },
   {
    "duration": 1342,
    "start_time": "2021-11-20T14:45:19.627Z"
   },
   {
    "duration": 1276,
    "start_time": "2021-11-20T14:45:37.757Z"
   },
   {
    "duration": 1042,
    "start_time": "2021-11-20T14:45:54.445Z"
   },
   {
    "duration": 1592,
    "start_time": "2021-11-20T14:51:22.702Z"
   },
   {
    "duration": 1303,
    "start_time": "2021-11-20T14:51:45.059Z"
   },
   {
    "duration": 1084,
    "start_time": "2021-11-20T14:52:37.769Z"
   },
   {
    "duration": 4225,
    "start_time": "2021-11-20T15:14:29.891Z"
   },
   {
    "duration": 17,
    "start_time": "2021-11-20T16:20:58.834Z"
   },
   {
    "duration": 14,
    "start_time": "2021-11-20T16:21:15.037Z"
   },
   {
    "duration": 15,
    "start_time": "2021-11-20T16:21:26.173Z"
   },
   {
    "duration": 16,
    "start_time": "2021-11-20T16:21:36.861Z"
   },
   {
    "duration": 32,
    "start_time": "2021-11-20T16:26:16.799Z"
   },
   {
    "duration": 28,
    "start_time": "2021-11-20T16:27:36.632Z"
   },
   {
    "duration": 1114,
    "start_time": "2021-11-20T16:41:40.408Z"
   },
   {
    "duration": 8,
    "start_time": "2021-11-20T16:45:17.134Z"
   },
   {
    "duration": 1027,
    "start_time": "2021-11-20T16:47:46.867Z"
   },
   {
    "duration": 90,
    "start_time": "2021-11-20T16:47:47.897Z"
   },
   {
    "duration": 24,
    "start_time": "2021-11-20T16:47:47.990Z"
   },
   {
    "duration": 11,
    "start_time": "2021-11-20T16:47:48.016Z"
   },
   {
    "duration": 486,
    "start_time": "2021-11-20T16:47:48.030Z"
   },
   {
    "duration": 13,
    "start_time": "2021-11-20T16:47:48.518Z"
   },
   {
    "duration": 5,
    "start_time": "2021-11-20T16:47:48.533Z"
   },
   {
    "duration": 7,
    "start_time": "2021-11-20T16:47:48.542Z"
   },
   {
    "duration": 37,
    "start_time": "2021-11-20T16:47:48.552Z"
   },
   {
    "duration": 20,
    "start_time": "2021-11-20T16:47:48.592Z"
   },
   {
    "duration": 7,
    "start_time": "2021-11-20T16:47:48.615Z"
   },
   {
    "duration": 9,
    "start_time": "2021-11-20T16:47:48.625Z"
   },
   {
    "duration": 45,
    "start_time": "2021-11-20T16:47:48.637Z"
   },
   {
    "duration": 21,
    "start_time": "2021-11-20T16:47:48.684Z"
   },
   {
    "duration": 16,
    "start_time": "2021-11-20T16:47:48.707Z"
   },
   {
    "duration": 14,
    "start_time": "2021-11-20T16:47:48.725Z"
   },
   {
    "duration": 45,
    "start_time": "2021-11-20T16:47:48.742Z"
   },
   {
    "duration": 11,
    "start_time": "2021-11-20T16:47:48.790Z"
   },
   {
    "duration": 9,
    "start_time": "2021-11-20T16:47:48.803Z"
   },
   {
    "duration": 11,
    "start_time": "2021-11-20T16:47:48.815Z"
   },
   {
    "duration": 54,
    "start_time": "2021-11-20T16:47:48.829Z"
   },
   {
    "duration": 6,
    "start_time": "2021-11-20T16:47:48.885Z"
   },
   {
    "duration": 17,
    "start_time": "2021-11-20T16:47:48.896Z"
   },
   {
    "duration": 23,
    "start_time": "2021-11-20T16:47:48.917Z"
   },
   {
    "duration": 1416,
    "start_time": "2021-11-20T16:47:48.943Z"
   },
   {
    "duration": 8,
    "start_time": "2021-11-20T16:47:50.362Z"
   },
   {
    "duration": 36,
    "start_time": "2021-11-20T16:47:50.383Z"
   },
   {
    "duration": 3,
    "start_time": "2021-11-20T16:47:50.421Z"
   },
   {
    "duration": 691,
    "start_time": "2021-11-20T16:47:50.426Z"
   },
   {
    "duration": 13,
    "start_time": "2021-11-20T16:47:51.119Z"
   },
   {
    "duration": 5,
    "start_time": "2021-11-20T16:47:51.134Z"
   },
   {
    "duration": 710,
    "start_time": "2021-11-20T16:47:51.142Z"
   },
   {
    "duration": 28,
    "start_time": "2021-11-20T16:47:51.854Z"
   },
   {
    "duration": 445,
    "start_time": "2021-11-20T16:47:51.884Z"
   },
   {
    "duration": 12,
    "start_time": "2021-11-20T16:47:52.331Z"
   },
   {
    "duration": 532,
    "start_time": "2021-11-20T16:47:52.345Z"
   },
   {
    "duration": 14,
    "start_time": "2021-11-20T16:47:52.882Z"
   },
   {
    "duration": 16,
    "start_time": "2021-11-20T16:47:52.898Z"
   },
   {
    "duration": 646,
    "start_time": "2021-11-20T16:47:52.916Z"
   },
   {
    "duration": 221,
    "start_time": "2021-11-20T16:47:53.565Z"
   },
   {
    "duration": 277,
    "start_time": "2021-11-20T16:47:53.789Z"
   },
   {
    "duration": 57,
    "start_time": "2021-11-20T16:47:54.068Z"
   },
   {
    "duration": 539,
    "start_time": "2021-11-20T16:47:54.127Z"
   },
   {
    "duration": 221,
    "start_time": "2021-11-20T16:47:54.668Z"
   },
   {
    "duration": 35,
    "start_time": "2021-11-20T16:47:54.892Z"
   },
   {
    "duration": 1240,
    "start_time": "2021-11-20T16:47:54.929Z"
   },
   {
    "duration": 22,
    "start_time": "2021-11-20T16:47:56.172Z"
   },
   {
    "duration": 887,
    "start_time": "2021-11-20T16:47:56.196Z"
   },
   {
    "duration": 8,
    "start_time": "2021-11-20T16:48:02.835Z"
   },
   {
    "duration": 605,
    "start_time": "2021-11-20T16:50:54.883Z"
   },
   {
    "duration": 426,
    "start_time": "2021-11-20T16:51:27.181Z"
   },
   {
    "duration": 420,
    "start_time": "2021-11-20T16:51:34.289Z"
   },
   {
    "duration": 504,
    "start_time": "2021-11-20T16:51:46.892Z"
   },
   {
    "duration": 7,
    "start_time": "2021-11-20T16:52:34.601Z"
   },
   {
    "duration": 431,
    "start_time": "2021-11-20T16:55:35.682Z"
   },
   {
    "duration": 205,
    "start_time": "2021-11-20T16:56:03.243Z"
   },
   {
    "duration": 1291,
    "start_time": "2021-11-20T16:57:38.173Z"
   },
   {
    "duration": 2708,
    "start_time": "2021-11-20T16:58:03.220Z"
   },
   {
    "duration": 8,
    "start_time": "2021-11-20T16:58:15.108Z"
   },
   {
    "duration": 357,
    "start_time": "2021-11-20T17:00:29.444Z"
   },
   {
    "duration": 253,
    "start_time": "2021-11-20T17:01:02.236Z"
   },
   {
    "duration": 303,
    "start_time": "2021-11-20T17:03:01.586Z"
   },
   {
    "duration": 232,
    "start_time": "2021-11-20T17:04:58.913Z"
   },
   {
    "duration": 114711,
    "start_time": "2021-11-20T17:08:25.728Z"
   },
   {
    "duration": 5,
    "start_time": "2021-11-20T17:11:36.830Z"
   },
   {
    "duration": 112536,
    "start_time": "2021-11-20T17:11:37.660Z"
   },
   {
    "duration": 39,
    "start_time": "2021-11-20T17:14:18.429Z"
   },
   {
    "duration": 320,
    "start_time": "2021-11-20T17:24:24.745Z"
   },
   {
    "duration": 7980,
    "start_time": "2021-11-20T17:24:34.317Z"
   },
   {
    "duration": 7907,
    "start_time": "2021-11-20T17:25:01.765Z"
   },
   {
    "duration": 880,
    "start_time": "2021-11-20T17:25:28.018Z"
   },
   {
    "duration": 93,
    "start_time": "2021-11-20T17:25:28.902Z"
   },
   {
    "duration": 25,
    "start_time": "2021-11-20T17:25:29.002Z"
   },
   {
    "duration": 13,
    "start_time": "2021-11-20T17:25:29.029Z"
   },
   {
    "duration": 414,
    "start_time": "2021-11-20T17:25:29.083Z"
   },
   {
    "duration": 13,
    "start_time": "2021-11-20T17:25:29.500Z"
   },
   {
    "duration": 10,
    "start_time": "2021-11-20T17:25:29.519Z"
   },
   {
    "duration": 16,
    "start_time": "2021-11-20T17:25:29.532Z"
   },
   {
    "duration": 35,
    "start_time": "2021-11-20T17:25:29.551Z"
   },
   {
    "duration": 22,
    "start_time": "2021-11-20T17:25:29.588Z"
   },
   {
    "duration": 9,
    "start_time": "2021-11-20T17:25:29.613Z"
   },
   {
    "duration": 16,
    "start_time": "2021-11-20T17:25:29.624Z"
   },
   {
    "duration": 12,
    "start_time": "2021-11-20T17:25:29.643Z"
   },
   {
    "duration": 36,
    "start_time": "2021-11-20T17:25:29.657Z"
   },
   {
    "duration": 19,
    "start_time": "2021-11-20T17:25:29.696Z"
   },
   {
    "duration": 14,
    "start_time": "2021-11-20T17:25:29.717Z"
   },
   {
    "duration": 10,
    "start_time": "2021-11-20T17:25:29.733Z"
   },
   {
    "duration": 10,
    "start_time": "2021-11-20T17:25:29.781Z"
   },
   {
    "duration": 16,
    "start_time": "2021-11-20T17:25:29.793Z"
   },
   {
    "duration": 15,
    "start_time": "2021-11-20T17:25:29.811Z"
   },
   {
    "duration": 15,
    "start_time": "2021-11-20T17:25:29.829Z"
   },
   {
    "duration": 13,
    "start_time": "2021-11-20T17:25:29.846Z"
   },
   {
    "duration": 14,
    "start_time": "2021-11-20T17:25:29.882Z"
   },
   {
    "duration": 18,
    "start_time": "2021-11-20T17:25:29.898Z"
   },
   {
    "duration": 881,
    "start_time": "2021-11-20T17:25:29.922Z"
   },
   {
    "duration": 9,
    "start_time": "2021-11-20T17:25:30.807Z"
   },
   {
    "duration": 71,
    "start_time": "2021-11-20T17:25:30.819Z"
   },
   {
    "duration": 4,
    "start_time": "2021-11-20T17:25:30.892Z"
   },
   {
    "duration": 692,
    "start_time": "2021-11-20T17:25:30.899Z"
   },
   {
    "duration": 12,
    "start_time": "2021-11-20T17:25:31.594Z"
   },
   {
    "duration": 5,
    "start_time": "2021-11-20T17:25:31.608Z"
   },
   {
    "duration": 749,
    "start_time": "2021-11-20T17:25:31.615Z"
   },
   {
    "duration": 23,
    "start_time": "2021-11-20T17:25:32.367Z"
   },
   {
    "duration": 462,
    "start_time": "2021-11-20T17:25:32.392Z"
   },
   {
    "duration": 27,
    "start_time": "2021-11-20T17:25:32.856Z"
   },
   {
    "duration": 515,
    "start_time": "2021-11-20T17:25:32.885Z"
   },
   {
    "duration": 10,
    "start_time": "2021-11-20T17:25:33.402Z"
   },
   {
    "duration": 27,
    "start_time": "2021-11-20T17:25:33.415Z"
   },
   {
    "duration": 632,
    "start_time": "2021-11-20T17:25:33.446Z"
   },
   {
    "duration": 266,
    "start_time": "2021-11-20T17:25:34.082Z"
   },
   {
    "duration": 405,
    "start_time": "2021-11-20T17:25:34.352Z"
   },
   {
    "duration": 85,
    "start_time": "2021-11-20T17:25:34.761Z"
   },
   {
    "duration": 861,
    "start_time": "2021-11-20T17:25:34.849Z"
   },
   {
    "duration": 306,
    "start_time": "2021-11-20T17:25:35.713Z"
   },
   {
    "duration": 65,
    "start_time": "2021-11-20T17:25:36.022Z"
   },
   {
    "duration": 1665,
    "start_time": "2021-11-20T17:25:36.090Z"
   },
   {
    "duration": 28,
    "start_time": "2021-11-20T17:25:37.758Z"
   },
   {
    "duration": 891,
    "start_time": "2021-11-20T17:25:37.789Z"
   },
   {
    "duration": 7,
    "start_time": "2021-11-20T17:25:38.682Z"
   },
   {
    "duration": 447,
    "start_time": "2021-11-20T17:25:38.692Z"
   },
   {
    "duration": 6,
    "start_time": "2021-11-20T17:25:39.141Z"
   },
   {
    "duration": 232,
    "start_time": "2021-11-20T17:25:39.150Z"
   },
   {
    "duration": 6,
    "start_time": "2021-11-20T17:25:39.384Z"
   },
   {
    "duration": 270,
    "start_time": "2021-11-20T17:25:39.393Z"
   },
   {
    "duration": 398,
    "start_time": "2021-11-20T17:25:39.666Z"
   },
   {
    "duration": 256,
    "start_time": "2021-11-20T17:25:40.067Z"
   },
   {
    "duration": 62,
    "start_time": "2021-11-20T17:25:40.326Z"
   },
   {
    "duration": 6,
    "start_time": "2021-11-20T17:25:40.391Z"
   },
   {
    "duration": 48,
    "start_time": "2021-11-20T17:25:48.001Z"
   },
   {
    "duration": 8210,
    "start_time": "2021-11-20T17:26:31.114Z"
   },
   {
    "duration": 345,
    "start_time": "2021-11-20T17:26:52.231Z"
   },
   {
    "duration": 344,
    "start_time": "2021-11-20T17:33:33.738Z"
   },
   {
    "duration": 334,
    "start_time": "2021-11-20T17:34:34.161Z"
   },
   {
    "duration": 342,
    "start_time": "2021-11-20T17:35:41.030Z"
   },
   {
    "duration": 110,
    "start_time": "2021-11-20T17:36:05.118Z"
   },
   {
    "duration": 352,
    "start_time": "2021-11-20T17:36:27.915Z"
   },
   {
    "duration": 342,
    "start_time": "2021-11-20T17:36:35.016Z"
   },
   {
    "duration": 481,
    "start_time": "2021-11-20T17:36:42.977Z"
   },
   {
    "duration": 559,
    "start_time": "2021-11-20T17:38:45.277Z"
   },
   {
    "duration": 272,
    "start_time": "2021-11-20T17:43:39.351Z"
   },
   {
    "duration": 755,
    "start_time": "2021-11-20T17:45:49.820Z"
   },
   {
    "duration": 646,
    "start_time": "2021-11-20T17:45:59.922Z"
   },
   {
    "duration": 94,
    "start_time": "2021-11-20T17:48:10.042Z"
   },
   {
    "duration": 570,
    "start_time": "2021-11-20T17:48:56.958Z"
   },
   {
    "duration": 295,
    "start_time": "2021-11-20T17:49:22.018Z"
   },
   {
    "duration": 306,
    "start_time": "2021-11-20T17:51:58.649Z"
   },
   {
    "duration": 101,
    "start_time": "2021-11-20T17:52:34.386Z"
   },
   {
    "duration": 384,
    "start_time": "2021-11-20T17:53:34.023Z"
   },
   {
    "duration": 629,
    "start_time": "2021-11-21T00:55:59.266Z"
   },
   {
    "duration": 46,
    "start_time": "2021-11-21T00:55:59.897Z"
   },
   {
    "duration": 14,
    "start_time": "2021-11-21T00:55:59.945Z"
   },
   {
    "duration": 26,
    "start_time": "2021-11-21T00:55:59.961Z"
   },
   {
    "duration": 228,
    "start_time": "2021-11-21T00:55:59.989Z"
   },
   {
    "duration": 8,
    "start_time": "2021-11-21T00:56:00.219Z"
   },
   {
    "duration": 8,
    "start_time": "2021-11-21T00:56:00.229Z"
   },
   {
    "duration": 25,
    "start_time": "2021-11-21T00:56:00.239Z"
   },
   {
    "duration": 22,
    "start_time": "2021-11-21T00:56:00.266Z"
   },
   {
    "duration": 26,
    "start_time": "2021-11-21T00:56:00.289Z"
   },
   {
    "duration": 16,
    "start_time": "2021-11-21T00:56:00.317Z"
   },
   {
    "duration": 18,
    "start_time": "2021-11-21T00:56:00.335Z"
   },
   {
    "duration": 24,
    "start_time": "2021-11-21T00:56:00.354Z"
   },
   {
    "duration": 18,
    "start_time": "2021-11-21T00:56:00.380Z"
   },
   {
    "duration": 20,
    "start_time": "2021-11-21T00:56:00.400Z"
   },
   {
    "duration": 12,
    "start_time": "2021-11-21T00:56:00.421Z"
   },
   {
    "duration": 20,
    "start_time": "2021-11-21T00:56:00.434Z"
   },
   {
    "duration": 20,
    "start_time": "2021-11-21T00:56:00.456Z"
   },
   {
    "duration": 29,
    "start_time": "2021-11-21T00:56:00.477Z"
   },
   {
    "duration": 27,
    "start_time": "2021-11-21T00:56:00.507Z"
   },
   {
    "duration": 23,
    "start_time": "2021-11-21T00:56:00.536Z"
   },
   {
    "duration": 42,
    "start_time": "2021-11-21T00:56:00.560Z"
   },
   {
    "duration": 34,
    "start_time": "2021-11-21T00:56:00.605Z"
   },
   {
    "duration": 20,
    "start_time": "2021-11-21T00:56:00.641Z"
   },
   {
    "duration": 465,
    "start_time": "2021-11-21T00:56:00.663Z"
   },
   {
    "duration": 4,
    "start_time": "2021-11-21T00:56:01.130Z"
   },
   {
    "duration": 30,
    "start_time": "2021-11-21T00:56:01.135Z"
   },
   {
    "duration": 9,
    "start_time": "2021-11-21T00:56:01.166Z"
   },
   {
    "duration": 378,
    "start_time": "2021-11-21T00:56:01.176Z"
   },
   {
    "duration": 7,
    "start_time": "2021-11-21T00:56:01.556Z"
   },
   {
    "duration": 17,
    "start_time": "2021-11-21T00:56:01.565Z"
   },
   {
    "duration": 382,
    "start_time": "2021-11-21T00:56:01.583Z"
   },
   {
    "duration": 7,
    "start_time": "2021-11-21T00:56:01.966Z"
   },
   {
    "duration": 246,
    "start_time": "2021-11-21T00:56:01.975Z"
   },
   {
    "duration": 8,
    "start_time": "2021-11-21T00:56:02.223Z"
   },
   {
    "duration": 272,
    "start_time": "2021-11-21T00:56:02.232Z"
   },
   {
    "duration": 8,
    "start_time": "2021-11-21T00:56:02.506Z"
   },
   {
    "duration": 23,
    "start_time": "2021-11-21T00:56:02.515Z"
   },
   {
    "duration": 319,
    "start_time": "2021-11-21T00:56:02.539Z"
   },
   {
    "duration": 116,
    "start_time": "2021-11-21T00:56:02.860Z"
   },
   {
    "duration": 161,
    "start_time": "2021-11-21T00:56:02.978Z"
   },
   {
    "duration": 27,
    "start_time": "2021-11-21T00:56:03.141Z"
   },
   {
    "duration": 284,
    "start_time": "2021-11-21T00:56:03.170Z"
   },
   {
    "duration": 109,
    "start_time": "2021-11-21T00:56:03.456Z"
   },
   {
    "duration": 23,
    "start_time": "2021-11-21T00:56:03.566Z"
   },
   {
    "duration": 627,
    "start_time": "2021-11-21T00:56:03.590Z"
   },
   {
    "duration": 7,
    "start_time": "2021-11-21T00:56:04.219Z"
   },
   {
    "duration": 604,
    "start_time": "2021-11-21T00:56:04.227Z"
   },
   {
    "duration": 5,
    "start_time": "2021-11-21T00:56:04.832Z"
   },
   {
    "duration": 236,
    "start_time": "2021-11-21T00:56:04.838Z"
   },
   {
    "duration": 12,
    "start_time": "2021-11-21T00:56:05.076Z"
   },
   {
    "duration": 124,
    "start_time": "2021-11-21T00:56:05.089Z"
   },
   {
    "duration": 5,
    "start_time": "2021-11-21T00:56:05.214Z"
   },
   {
    "duration": 138,
    "start_time": "2021-11-21T00:56:05.220Z"
   },
   {
    "duration": 225,
    "start_time": "2021-11-21T00:56:05.359Z"
   },
   {
    "duration": 133,
    "start_time": "2021-11-21T00:56:05.586Z"
   },
   {
    "duration": 21,
    "start_time": "2021-11-21T00:56:05.720Z"
   },
   {
    "duration": 3,
    "start_time": "2021-11-21T00:56:05.742Z"
   },
   {
    "duration": 46,
    "start_time": "2021-11-21T00:56:05.747Z"
   },
   {
    "duration": 192,
    "start_time": "2021-11-21T00:56:05.795Z"
   },
   {
    "duration": 178,
    "start_time": "2021-11-21T00:56:05.989Z"
   },
   {
    "duration": 181,
    "start_time": "2021-11-21T00:56:06.168Z"
   },
   {
    "duration": 181,
    "start_time": "2021-11-21T00:56:06.350Z"
   },
   {
    "duration": 189,
    "start_time": "2021-11-21T00:56:06.532Z"
   },
   {
    "duration": 227,
    "start_time": "2021-11-21T00:56:06.723Z"
   },
   {
    "duration": 154,
    "start_time": "2021-11-21T00:56:06.951Z"
   },
   {
    "duration": 383,
    "start_time": "2021-11-21T00:56:07.107Z"
   },
   {
    "duration": 166,
    "start_time": "2021-11-21T00:56:07.494Z"
   },
   {
    "duration": 251,
    "start_time": "2021-11-21T00:56:07.662Z"
   },
   {
    "duration": 192,
    "start_time": "2021-11-21T00:56:07.914Z"
   },
   {
    "duration": 8,
    "start_time": "2021-11-21T00:57:13.699Z"
   },
   {
    "duration": 655,
    "start_time": "2021-11-21T11:49:30.127Z"
   },
   {
    "duration": 411,
    "start_time": "2021-11-21T11:49:30.784Z"
   },
   {
    "duration": 95,
    "start_time": "2021-11-21T11:49:31.199Z"
   },
   {
    "duration": 28,
    "start_time": "2021-11-21T11:49:31.299Z"
   },
   {
    "duration": 18,
    "start_time": "2021-11-21T11:49:31.330Z"
   },
   {
    "duration": 20,
    "start_time": "2021-11-21T11:49:31.383Z"
   },
   {
    "duration": 350,
    "start_time": "2021-11-21T11:49:31.407Z"
   },
   {
    "duration": 22,
    "start_time": "2021-11-21T11:49:31.761Z"
   },
   {
    "duration": 13,
    "start_time": "2021-11-21T11:49:37.022Z"
   },
   {
    "duration": 12,
    "start_time": "2021-11-21T11:49:38.104Z"
   },
   {
    "duration": 8,
    "start_time": "2021-11-21T11:49:50.086Z"
   },
   {
    "duration": 7,
    "start_time": "2021-11-21T11:50:15.047Z"
   },
   {
    "duration": 8,
    "start_time": "2021-11-21T11:50:16.992Z"
   },
   {
    "duration": 9,
    "start_time": "2021-11-21T11:52:08.962Z"
   },
   {
    "duration": 9,
    "start_time": "2021-11-21T11:52:09.571Z"
   },
   {
    "duration": 25,
    "start_time": "2021-11-21T11:52:10.991Z"
   },
   {
    "duration": 8,
    "start_time": "2021-11-21T11:52:14.801Z"
   },
   {
    "duration": 8,
    "start_time": "2021-11-21T11:52:15.813Z"
   },
   {
    "duration": 7,
    "start_time": "2021-11-21T11:52:17.442Z"
   },
   {
    "duration": 15,
    "start_time": "2021-11-21T11:53:48.186Z"
   },
   {
    "duration": 27,
    "start_time": "2021-11-21T11:53:49.480Z"
   },
   {
    "duration": 18,
    "start_time": "2021-11-21T11:54:05.664Z"
   },
   {
    "duration": 9,
    "start_time": "2021-11-21T11:54:24.483Z"
   },
   {
    "duration": 15,
    "start_time": "2021-11-21T11:54:43.245Z"
   },
   {
    "duration": 12,
    "start_time": "2021-11-21T11:55:03.046Z"
   },
   {
    "duration": 13,
    "start_time": "2021-11-21T11:55:12.862Z"
   },
   {
    "duration": 15,
    "start_time": "2021-11-21T11:55:15.088Z"
   },
   {
    "duration": 8,
    "start_time": "2021-11-21T11:55:16.102Z"
   },
   {
    "duration": 15,
    "start_time": "2021-11-21T11:55:17.738Z"
   },
   {
    "duration": 5,
    "start_time": "2021-11-21T11:56:28.959Z"
   },
   {
    "duration": 98,
    "start_time": "2021-11-21T11:56:28.967Z"
   },
   {
    "duration": 76,
    "start_time": "2021-11-21T11:56:29.069Z"
   },
   {
    "duration": 44,
    "start_time": "2021-11-21T11:56:29.148Z"
   },
   {
    "duration": 12,
    "start_time": "2021-11-21T11:56:29.195Z"
   },
   {
    "duration": 14,
    "start_time": "2021-11-21T11:56:29.210Z"
   },
   {
    "duration": 498,
    "start_time": "2021-11-21T11:56:29.226Z"
   },
   {
    "duration": 14,
    "start_time": "2021-11-21T11:56:29.727Z"
   },
   {
    "duration": 7,
    "start_time": "2021-11-21T11:56:29.747Z"
   },
   {
    "duration": 7,
    "start_time": "2021-11-21T11:56:29.781Z"
   },
   {
    "duration": 7,
    "start_time": "2021-11-21T11:56:29.791Z"
   },
   {
    "duration": 18,
    "start_time": "2021-11-21T11:56:29.800Z"
   },
   {
    "duration": 5,
    "start_time": "2021-11-21T11:56:29.821Z"
   },
   {
    "duration": 57,
    "start_time": "2021-11-21T11:56:29.828Z"
   },
   {
    "duration": 8,
    "start_time": "2021-11-21T11:56:29.888Z"
   },
   {
    "duration": 11,
    "start_time": "2021-11-21T11:56:29.899Z"
   },
   {
    "duration": 15,
    "start_time": "2021-11-21T11:56:29.913Z"
   },
   {
    "duration": 13,
    "start_time": "2021-11-21T11:56:29.931Z"
   },
   {
    "duration": 8,
    "start_time": "2021-11-21T11:56:29.982Z"
   },
   {
    "duration": 11,
    "start_time": "2021-11-21T11:56:29.993Z"
   },
   {
    "duration": 17,
    "start_time": "2021-11-21T11:56:30.007Z"
   },
   {
    "duration": 19,
    "start_time": "2021-11-21T11:56:30.026Z"
   },
   {
    "duration": 14,
    "start_time": "2021-11-21T11:56:30.083Z"
   },
   {
    "duration": 7,
    "start_time": "2021-11-21T11:56:30.100Z"
   },
   {
    "duration": 20,
    "start_time": "2021-11-21T11:56:30.110Z"
   },
   {
    "duration": 57,
    "start_time": "2021-11-21T11:56:30.133Z"
   },
   {
    "duration": 842,
    "start_time": "2021-11-21T11:56:30.196Z"
   },
   {
    "duration": 8,
    "start_time": "2021-11-21T11:56:31.041Z"
   },
   {
    "duration": 58,
    "start_time": "2021-11-21T11:56:31.051Z"
   },
   {
    "duration": 1077,
    "start_time": "2021-11-21T11:56:31.112Z"
   },
   {
    "duration": 16,
    "start_time": "2021-11-21T11:56:32.192Z"
   },
   {
    "duration": 5,
    "start_time": "2021-11-21T11:56:32.211Z"
   },
   {
    "duration": 774,
    "start_time": "2021-11-21T11:56:32.218Z"
   },
   {
    "duration": 13,
    "start_time": "2021-11-21T11:56:32.994Z"
   },
   {
    "duration": 475,
    "start_time": "2021-11-21T11:56:33.010Z"
   },
   {
    "duration": 12,
    "start_time": "2021-11-21T11:56:33.487Z"
   },
   {
    "duration": 526,
    "start_time": "2021-11-21T11:56:33.501Z"
   },
   {
    "duration": 12,
    "start_time": "2021-11-21T11:56:34.030Z"
   },
   {
    "duration": 41,
    "start_time": "2021-11-21T11:56:34.044Z"
   },
   {
    "duration": 812,
    "start_time": "2021-11-21T11:56:34.088Z"
   },
   {
    "duration": 304,
    "start_time": "2021-11-21T11:56:34.904Z"
   },
   {
    "duration": 293,
    "start_time": "2021-11-21T11:56:35.211Z"
   },
   {
    "duration": 96,
    "start_time": "2021-11-21T11:56:35.507Z"
   },
   {
    "duration": 793,
    "start_time": "2021-11-21T11:56:35.606Z"
   },
   {
    "duration": 292,
    "start_time": "2021-11-21T11:56:36.402Z"
   },
   {
    "duration": 9,
    "start_time": "2021-11-21T12:39:41.357Z"
   },
   {
    "duration": 6,
    "start_time": "2021-11-21T12:44:29.112Z"
   },
   {
    "duration": 746,
    "start_time": "2021-11-21T12:44:30.622Z"
   },
   {
    "duration": 653,
    "start_time": "2021-11-21T12:44:41.193Z"
   },
   {
    "duration": 2666,
    "start_time": "2021-11-21T12:46:16.824Z"
   },
   {
    "duration": 3228,
    "start_time": "2021-11-21T12:46:43.795Z"
   },
   {
    "duration": 27,
    "start_time": "2021-11-21T12:49:13.377Z"
   },
   {
    "duration": 15,
    "start_time": "2021-11-21T12:50:42.432Z"
   },
   {
    "duration": 14,
    "start_time": "2021-11-21T12:51:06.412Z"
   },
   {
    "duration": 13,
    "start_time": "2021-11-21T12:51:24.060Z"
   },
   {
    "duration": 11,
    "start_time": "2021-11-21T12:51:39.922Z"
   },
   {
    "duration": 338,
    "start_time": "2021-11-21T13:03:20.583Z"
   },
   {
    "duration": 655,
    "start_time": "2021-11-21T13:04:33.183Z"
   },
   {
    "duration": 346,
    "start_time": "2021-11-21T13:04:48.334Z"
   },
   {
    "duration": 7,
    "start_time": "2021-11-21T13:05:46.251Z"
   },
   {
    "duration": 2642,
    "start_time": "2021-11-21T13:05:47.395Z"
   },
   {
    "duration": 359,
    "start_time": "2021-11-21T13:06:07.116Z"
   },
   {
    "duration": 536,
    "start_time": "2021-11-21T13:06:43.085Z"
   },
   {
    "duration": 348,
    "start_time": "2021-11-21T13:07:13.203Z"
   },
   {
    "duration": 1313,
    "start_time": "2021-11-21T13:07:26.024Z"
   },
   {
    "duration": 1168,
    "start_time": "2021-11-21T13:07:35.391Z"
   },
   {
    "duration": 1985,
    "start_time": "2021-11-21T13:12:37.277Z"
   },
   {
    "duration": 502,
    "start_time": "2021-11-21T13:13:27.206Z"
   },
   {
    "duration": 2242,
    "start_time": "2021-11-21T13:20:02.900Z"
   },
   {
    "duration": 124,
    "start_time": "2021-11-21T13:20:22.671Z"
   },
   {
    "duration": 1494,
    "start_time": "2021-11-21T13:20:32.105Z"
   },
   {
    "duration": 1417,
    "start_time": "2021-11-21T13:20:48.920Z"
   },
   {
    "duration": 1145,
    "start_time": "2021-11-21T13:23:54.341Z"
   },
   {
    "duration": 1341,
    "start_time": "2021-11-21T13:24:05.246Z"
   },
   {
    "duration": 1809,
    "start_time": "2021-11-21T13:25:28.207Z"
   },
   {
    "duration": 218,
    "start_time": "2021-11-22T05:19:50.040Z"
   },
   {
    "duration": 396,
    "start_time": "2021-11-22T05:20:06.835Z"
   },
   {
    "duration": 262,
    "start_time": "2021-11-22T05:20:07.233Z"
   },
   {
    "duration": 47,
    "start_time": "2021-11-22T05:20:07.496Z"
   },
   {
    "duration": 14,
    "start_time": "2021-11-22T05:20:07.545Z"
   },
   {
    "duration": 32,
    "start_time": "2021-11-22T05:20:07.561Z"
   },
   {
    "duration": 9,
    "start_time": "2021-11-22T05:20:07.594Z"
   },
   {
    "duration": 207,
    "start_time": "2021-11-22T05:20:07.604Z"
   },
   {
    "duration": 10,
    "start_time": "2021-11-22T05:20:07.814Z"
   },
   {
    "duration": 6,
    "start_time": "2021-11-22T05:20:07.826Z"
   },
   {
    "duration": 6,
    "start_time": "2021-11-22T05:20:07.834Z"
   },
   {
    "duration": 6,
    "start_time": "2021-11-22T05:20:07.842Z"
   },
   {
    "duration": 43,
    "start_time": "2021-11-22T05:20:07.850Z"
   },
   {
    "duration": 6,
    "start_time": "2021-11-22T05:20:07.894Z"
   },
   {
    "duration": 11,
    "start_time": "2021-11-22T05:20:07.902Z"
   },
   {
    "duration": 12,
    "start_time": "2021-11-22T05:20:07.914Z"
   },
   {
    "duration": 24,
    "start_time": "2021-11-22T05:20:07.928Z"
   },
   {
    "duration": 20,
    "start_time": "2021-11-22T05:20:07.953Z"
   },
   {
    "duration": 21,
    "start_time": "2021-11-22T05:20:07.974Z"
   },
   {
    "duration": 19,
    "start_time": "2021-11-22T05:20:07.996Z"
   },
   {
    "duration": 15,
    "start_time": "2021-11-22T05:20:08.017Z"
   },
   {
    "duration": 12,
    "start_time": "2021-11-22T05:20:08.034Z"
   },
   {
    "duration": 15,
    "start_time": "2021-11-22T05:20:08.048Z"
   },
   {
    "duration": 12,
    "start_time": "2021-11-22T05:20:08.066Z"
   },
   {
    "duration": 14,
    "start_time": "2021-11-22T05:20:08.080Z"
   },
   {
    "duration": 24,
    "start_time": "2021-11-22T05:20:08.095Z"
   },
   {
    "duration": 28,
    "start_time": "2021-11-22T05:20:08.120Z"
   },
   {
    "duration": 452,
    "start_time": "2021-11-22T05:20:08.149Z"
   },
   {
    "duration": 6,
    "start_time": "2021-11-22T05:20:08.602Z"
   },
   {
    "duration": 26,
    "start_time": "2021-11-22T05:20:08.609Z"
   },
   {
    "duration": 4,
    "start_time": "2021-11-22T05:20:08.636Z"
   },
   {
    "duration": 1654,
    "start_time": "2021-11-22T05:20:08.641Z"
   },
   {
    "duration": 8,
    "start_time": "2021-11-22T05:20:10.297Z"
   },
   {
    "duration": 19,
    "start_time": "2021-11-22T05:20:10.307Z"
   },
   {
    "duration": 8,
    "start_time": "2021-11-22T05:20:10.328Z"
   },
   {
    "duration": 19,
    "start_time": "2021-11-22T05:20:10.337Z"
   },
   {
    "duration": 33,
    "start_time": "2021-11-22T05:20:10.358Z"
   },
   {
    "duration": 370,
    "start_time": "2021-11-22T05:20:10.393Z"
   },
   {
    "duration": 138,
    "start_time": "2021-11-22T05:20:10.765Z"
   },
   {
    "duration": 29,
    "start_time": "2021-11-22T05:20:10.905Z"
   },
   {
    "duration": 335,
    "start_time": "2021-11-22T05:20:10.936Z"
   },
   {
    "duration": 204,
    "start_time": "2021-11-22T05:20:11.273Z"
   },
   {
    "duration": 700,
    "start_time": "2021-11-22T05:20:15.779Z"
   },
   {
    "duration": 724,
    "start_time": "2021-11-22T05:20:25.087Z"
   },
   {
    "duration": 1152,
    "start_time": "2021-11-22T05:20:54.108Z"
   },
   {
    "duration": 1049,
    "start_time": "2021-11-22T05:22:21.323Z"
   }
  ],
  "kernelspec": {
   "display_name": "Python 3",
   "language": "python",
   "name": "python3"
  },
  "language_info": {
   "codemirror_mode": {
    "name": "ipython",
    "version": 3
   },
   "file_extension": ".py",
   "mimetype": "text/x-python",
   "name": "python",
   "nbconvert_exporter": "python",
   "pygments_lexer": "ipython3",
   "version": "3.7.8"
  },
  "toc": {
   "base_numbering": 1,
   "nav_menu": {},
   "number_sections": true,
   "sideBar": true,
   "skip_h1_title": true,
   "title_cell": "Содержание",
   "title_sidebar": "Contents",
   "toc_cell": true,
   "toc_position": {
    "height": "calc(100% - 180px)",
    "left": "10px",
    "top": "150px",
    "width": "189.188px"
   },
   "toc_section_display": true,
   "toc_window_display": true
  }
 },
 "nbformat": 4,
 "nbformat_minor": 2
}
